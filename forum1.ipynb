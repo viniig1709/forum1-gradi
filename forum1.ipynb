{
 "metadata": {
  "language_info": {
   "codemirror_mode": {
    "name": "ipython",
    "version": 3
   },
   "file_extension": ".py",
   "mimetype": "text/x-python",
   "name": "python",
   "nbconvert_exporter": "python",
   "pygments_lexer": "ipython3",
   "version": "3.8.5-final"
  },
  "orig_nbformat": 2,
  "kernelspec": {
   "name": "python3",
   "display_name": "Python 3.8.5 64-bit ('AmbienteCDD': venv)",
   "metadata": {
    "interpreter": {
     "hash": "9f179cc9db71b6c4f419c2bf496190d700b2476c44ef1a8e1c306a2b86a77323"
    }
   }
  }
 },
 "nbformat": 4,
 "nbformat_minor": 2,
 "cells": [
  {
   "source": [
    "# Análise de correlações"
   ],
   "cell_type": "markdown",
   "metadata": {}
  },
  {
   "cell_type": "code",
   "execution_count": 1,
   "metadata": {},
   "outputs": [],
   "source": [
    "import pandas as pd\n",
    "import matplotlib.pyplot as plt\n",
    "import numpy as np\n",
    "from mlxtend.preprocessing import TransactionEncoder\n",
    "from mlxtend.frequent_patterns import apriori\n",
    "from mlxtend.frequent_patterns import association_rules\n",
    "import warnings\n",
    "\n",
    "warnings.filterwarnings('ignore')\n",
    "pd.options.display.float_format = \"{:.2f}\".format\n",
    "pd.options.display.max_rows = 10"
   ]
  },
  {
   "cell_type": "code",
   "execution_count": 2,
   "metadata": {},
   "outputs": [],
   "source": [
    "df = pd.read_excel(\"Online Retail.xlsx\")"
   ]
  },
  {
   "source": [
    "## Conhecendo o dataset"
   ],
   "cell_type": "markdown",
   "metadata": {}
  },
  {
   "source": [
    "### Colunas"
   ],
   "cell_type": "markdown",
   "metadata": {}
  },
  {
   "cell_type": "code",
   "execution_count": 3,
   "metadata": {},
   "outputs": [
    {
     "output_type": "execute_result",
     "data": {
      "text/plain": [
       "Index(['InvoiceNo', 'StockCode', 'Description', 'Quantity', 'InvoiceDate',\n",
       "       'UnitPrice', 'CustomerID', 'Country'],\n",
       "      dtype='object')"
      ]
     },
     "metadata": {},
     "execution_count": 3
    }
   ],
   "source": [
    "df.columns"
   ]
  },
  {
   "source": [
    "### Tipos de dados das colunas"
   ],
   "cell_type": "markdown",
   "metadata": {}
  },
  {
   "cell_type": "code",
   "execution_count": 4,
   "metadata": {},
   "outputs": [
    {
     "output_type": "execute_result",
     "data": {
      "text/plain": [
       "InvoiceNo              object\n",
       "StockCode              object\n",
       "Description            object\n",
       "Quantity                int64\n",
       "InvoiceDate    datetime64[ns]\n",
       "UnitPrice             float64\n",
       "CustomerID            float64\n",
       "Country                object\n",
       "dtype: object"
      ]
     },
     "metadata": {},
     "execution_count": 4
    }
   ],
   "source": [
    "df.dtypes"
   ]
  },
  {
   "source": [
    "### Dataset"
   ],
   "cell_type": "markdown",
   "metadata": {}
  },
  {
   "cell_type": "code",
   "execution_count": 5,
   "metadata": {},
   "outputs": [
    {
     "output_type": "execute_result",
     "data": {
      "text/plain": [
       "       InvoiceNo StockCode                          Description  Quantity  \\\n",
       "0         536365    85123A   WHITE HANGING HEART T-LIGHT HOLDER         6   \n",
       "1         536365     71053                  WHITE METAL LANTERN         6   \n",
       "2         536365    84406B       CREAM CUPID HEARTS COAT HANGER         8   \n",
       "3         536365    84029G  KNITTED UNION FLAG HOT WATER BOTTLE         6   \n",
       "4         536365    84029E       RED WOOLLY HOTTIE WHITE HEART.         6   \n",
       "...          ...       ...                                  ...       ...   \n",
       "541904    581587     22613          PACK OF 20 SPACEBOY NAPKINS        12   \n",
       "541905    581587     22899         CHILDREN'S APRON DOLLY GIRL          6   \n",
       "541906    581587     23254        CHILDRENS CUTLERY DOLLY GIRL          4   \n",
       "541907    581587     23255      CHILDRENS CUTLERY CIRCUS PARADE         4   \n",
       "541908    581587     22138        BAKING SET 9 PIECE RETROSPOT          3   \n",
       "\n",
       "               InvoiceDate  UnitPrice  CustomerID         Country  \n",
       "0      2010-12-01 08:26:00       2.55    17850.00  United Kingdom  \n",
       "1      2010-12-01 08:26:00       3.39    17850.00  United Kingdom  \n",
       "2      2010-12-01 08:26:00       2.75    17850.00  United Kingdom  \n",
       "3      2010-12-01 08:26:00       3.39    17850.00  United Kingdom  \n",
       "4      2010-12-01 08:26:00       3.39    17850.00  United Kingdom  \n",
       "...                    ...        ...         ...             ...  \n",
       "541904 2011-12-09 12:50:00       0.85    12680.00          France  \n",
       "541905 2011-12-09 12:50:00       2.10    12680.00          France  \n",
       "541906 2011-12-09 12:50:00       4.15    12680.00          France  \n",
       "541907 2011-12-09 12:50:00       4.15    12680.00          France  \n",
       "541908 2011-12-09 12:50:00       4.95    12680.00          France  \n",
       "\n",
       "[541909 rows x 8 columns]"
      ],
      "text/html": "<div>\n<style scoped>\n    .dataframe tbody tr th:only-of-type {\n        vertical-align: middle;\n    }\n\n    .dataframe tbody tr th {\n        vertical-align: top;\n    }\n\n    .dataframe thead th {\n        text-align: right;\n    }\n</style>\n<table border=\"1\" class=\"dataframe\">\n  <thead>\n    <tr style=\"text-align: right;\">\n      <th></th>\n      <th>InvoiceNo</th>\n      <th>StockCode</th>\n      <th>Description</th>\n      <th>Quantity</th>\n      <th>InvoiceDate</th>\n      <th>UnitPrice</th>\n      <th>CustomerID</th>\n      <th>Country</th>\n    </tr>\n  </thead>\n  <tbody>\n    <tr>\n      <th>0</th>\n      <td>536365</td>\n      <td>85123A</td>\n      <td>WHITE HANGING HEART T-LIGHT HOLDER</td>\n      <td>6</td>\n      <td>2010-12-01 08:26:00</td>\n      <td>2.55</td>\n      <td>17850.00</td>\n      <td>United Kingdom</td>\n    </tr>\n    <tr>\n      <th>1</th>\n      <td>536365</td>\n      <td>71053</td>\n      <td>WHITE METAL LANTERN</td>\n      <td>6</td>\n      <td>2010-12-01 08:26:00</td>\n      <td>3.39</td>\n      <td>17850.00</td>\n      <td>United Kingdom</td>\n    </tr>\n    <tr>\n      <th>2</th>\n      <td>536365</td>\n      <td>84406B</td>\n      <td>CREAM CUPID HEARTS COAT HANGER</td>\n      <td>8</td>\n      <td>2010-12-01 08:26:00</td>\n      <td>2.75</td>\n      <td>17850.00</td>\n      <td>United Kingdom</td>\n    </tr>\n    <tr>\n      <th>3</th>\n      <td>536365</td>\n      <td>84029G</td>\n      <td>KNITTED UNION FLAG HOT WATER BOTTLE</td>\n      <td>6</td>\n      <td>2010-12-01 08:26:00</td>\n      <td>3.39</td>\n      <td>17850.00</td>\n      <td>United Kingdom</td>\n    </tr>\n    <tr>\n      <th>4</th>\n      <td>536365</td>\n      <td>84029E</td>\n      <td>RED WOOLLY HOTTIE WHITE HEART.</td>\n      <td>6</td>\n      <td>2010-12-01 08:26:00</td>\n      <td>3.39</td>\n      <td>17850.00</td>\n      <td>United Kingdom</td>\n    </tr>\n    <tr>\n      <th>...</th>\n      <td>...</td>\n      <td>...</td>\n      <td>...</td>\n      <td>...</td>\n      <td>...</td>\n      <td>...</td>\n      <td>...</td>\n      <td>...</td>\n    </tr>\n    <tr>\n      <th>541904</th>\n      <td>581587</td>\n      <td>22613</td>\n      <td>PACK OF 20 SPACEBOY NAPKINS</td>\n      <td>12</td>\n      <td>2011-12-09 12:50:00</td>\n      <td>0.85</td>\n      <td>12680.00</td>\n      <td>France</td>\n    </tr>\n    <tr>\n      <th>541905</th>\n      <td>581587</td>\n      <td>22899</td>\n      <td>CHILDREN'S APRON DOLLY GIRL</td>\n      <td>6</td>\n      <td>2011-12-09 12:50:00</td>\n      <td>2.10</td>\n      <td>12680.00</td>\n      <td>France</td>\n    </tr>\n    <tr>\n      <th>541906</th>\n      <td>581587</td>\n      <td>23254</td>\n      <td>CHILDRENS CUTLERY DOLLY GIRL</td>\n      <td>4</td>\n      <td>2011-12-09 12:50:00</td>\n      <td>4.15</td>\n      <td>12680.00</td>\n      <td>France</td>\n    </tr>\n    <tr>\n      <th>541907</th>\n      <td>581587</td>\n      <td>23255</td>\n      <td>CHILDRENS CUTLERY CIRCUS PARADE</td>\n      <td>4</td>\n      <td>2011-12-09 12:50:00</td>\n      <td>4.15</td>\n      <td>12680.00</td>\n      <td>France</td>\n    </tr>\n    <tr>\n      <th>541908</th>\n      <td>581587</td>\n      <td>22138</td>\n      <td>BAKING SET 9 PIECE RETROSPOT</td>\n      <td>3</td>\n      <td>2011-12-09 12:50:00</td>\n      <td>4.95</td>\n      <td>12680.00</td>\n      <td>France</td>\n    </tr>\n  </tbody>\n</table>\n<p>541909 rows × 8 columns</p>\n</div>"
     },
     "metadata": {},
     "execution_count": 5
    }
   ],
   "source": [
    "df"
   ]
  },
  {
   "source": [
    "## Limpeza dos dados"
   ],
   "cell_type": "markdown",
   "metadata": {}
  },
  {
   "source": [
    "### Removendo linhas vazias"
   ],
   "cell_type": "markdown",
   "metadata": {}
  },
  {
   "cell_type": "code",
   "execution_count": 6,
   "metadata": {},
   "outputs": [],
   "source": [
    "df.dropna(axis='index', how='all', inplace=True)"
   ]
  },
  {
   "source": [
    "### Removendo linhas onde a coluna 'InvoiceNo' esteja vazia"
   ],
   "cell_type": "markdown",
   "metadata": {}
  },
  {
   "cell_type": "code",
   "execution_count": 7,
   "metadata": {},
   "outputs": [],
   "source": [
    "df.dropna(axis='index', subset=['InvoiceNo'], inplace=True)"
   ]
  },
  {
   "source": [
    "### Exibindo o resultado"
   ],
   "cell_type": "markdown",
   "metadata": {}
  },
  {
   "cell_type": "code",
   "execution_count": 8,
   "metadata": {},
   "outputs": [
    {
     "output_type": "execute_result",
     "data": {
      "text/plain": [
       "       InvoiceNo StockCode                          Description  Quantity  \\\n",
       "0         536365    85123A   WHITE HANGING HEART T-LIGHT HOLDER         6   \n",
       "1         536365     71053                  WHITE METAL LANTERN         6   \n",
       "2         536365    84406B       CREAM CUPID HEARTS COAT HANGER         8   \n",
       "3         536365    84029G  KNITTED UNION FLAG HOT WATER BOTTLE         6   \n",
       "4         536365    84029E       RED WOOLLY HOTTIE WHITE HEART.         6   \n",
       "...          ...       ...                                  ...       ...   \n",
       "541904    581587     22613          PACK OF 20 SPACEBOY NAPKINS        12   \n",
       "541905    581587     22899         CHILDREN'S APRON DOLLY GIRL          6   \n",
       "541906    581587     23254        CHILDRENS CUTLERY DOLLY GIRL          4   \n",
       "541907    581587     23255      CHILDRENS CUTLERY CIRCUS PARADE         4   \n",
       "541908    581587     22138        BAKING SET 9 PIECE RETROSPOT          3   \n",
       "\n",
       "               InvoiceDate  UnitPrice  CustomerID         Country  \n",
       "0      2010-12-01 08:26:00       2.55    17850.00  United Kingdom  \n",
       "1      2010-12-01 08:26:00       3.39    17850.00  United Kingdom  \n",
       "2      2010-12-01 08:26:00       2.75    17850.00  United Kingdom  \n",
       "3      2010-12-01 08:26:00       3.39    17850.00  United Kingdom  \n",
       "4      2010-12-01 08:26:00       3.39    17850.00  United Kingdom  \n",
       "...                    ...        ...         ...             ...  \n",
       "541904 2011-12-09 12:50:00       0.85    12680.00          France  \n",
       "541905 2011-12-09 12:50:00       2.10    12680.00          France  \n",
       "541906 2011-12-09 12:50:00       4.15    12680.00          France  \n",
       "541907 2011-12-09 12:50:00       4.15    12680.00          France  \n",
       "541908 2011-12-09 12:50:00       4.95    12680.00          France  \n",
       "\n",
       "[541909 rows x 8 columns]"
      ],
      "text/html": "<div>\n<style scoped>\n    .dataframe tbody tr th:only-of-type {\n        vertical-align: middle;\n    }\n\n    .dataframe tbody tr th {\n        vertical-align: top;\n    }\n\n    .dataframe thead th {\n        text-align: right;\n    }\n</style>\n<table border=\"1\" class=\"dataframe\">\n  <thead>\n    <tr style=\"text-align: right;\">\n      <th></th>\n      <th>InvoiceNo</th>\n      <th>StockCode</th>\n      <th>Description</th>\n      <th>Quantity</th>\n      <th>InvoiceDate</th>\n      <th>UnitPrice</th>\n      <th>CustomerID</th>\n      <th>Country</th>\n    </tr>\n  </thead>\n  <tbody>\n    <tr>\n      <th>0</th>\n      <td>536365</td>\n      <td>85123A</td>\n      <td>WHITE HANGING HEART T-LIGHT HOLDER</td>\n      <td>6</td>\n      <td>2010-12-01 08:26:00</td>\n      <td>2.55</td>\n      <td>17850.00</td>\n      <td>United Kingdom</td>\n    </tr>\n    <tr>\n      <th>1</th>\n      <td>536365</td>\n      <td>71053</td>\n      <td>WHITE METAL LANTERN</td>\n      <td>6</td>\n      <td>2010-12-01 08:26:00</td>\n      <td>3.39</td>\n      <td>17850.00</td>\n      <td>United Kingdom</td>\n    </tr>\n    <tr>\n      <th>2</th>\n      <td>536365</td>\n      <td>84406B</td>\n      <td>CREAM CUPID HEARTS COAT HANGER</td>\n      <td>8</td>\n      <td>2010-12-01 08:26:00</td>\n      <td>2.75</td>\n      <td>17850.00</td>\n      <td>United Kingdom</td>\n    </tr>\n    <tr>\n      <th>3</th>\n      <td>536365</td>\n      <td>84029G</td>\n      <td>KNITTED UNION FLAG HOT WATER BOTTLE</td>\n      <td>6</td>\n      <td>2010-12-01 08:26:00</td>\n      <td>3.39</td>\n      <td>17850.00</td>\n      <td>United Kingdom</td>\n    </tr>\n    <tr>\n      <th>4</th>\n      <td>536365</td>\n      <td>84029E</td>\n      <td>RED WOOLLY HOTTIE WHITE HEART.</td>\n      <td>6</td>\n      <td>2010-12-01 08:26:00</td>\n      <td>3.39</td>\n      <td>17850.00</td>\n      <td>United Kingdom</td>\n    </tr>\n    <tr>\n      <th>...</th>\n      <td>...</td>\n      <td>...</td>\n      <td>...</td>\n      <td>...</td>\n      <td>...</td>\n      <td>...</td>\n      <td>...</td>\n      <td>...</td>\n    </tr>\n    <tr>\n      <th>541904</th>\n      <td>581587</td>\n      <td>22613</td>\n      <td>PACK OF 20 SPACEBOY NAPKINS</td>\n      <td>12</td>\n      <td>2011-12-09 12:50:00</td>\n      <td>0.85</td>\n      <td>12680.00</td>\n      <td>France</td>\n    </tr>\n    <tr>\n      <th>541905</th>\n      <td>581587</td>\n      <td>22899</td>\n      <td>CHILDREN'S APRON DOLLY GIRL</td>\n      <td>6</td>\n      <td>2011-12-09 12:50:00</td>\n      <td>2.10</td>\n      <td>12680.00</td>\n      <td>France</td>\n    </tr>\n    <tr>\n      <th>541906</th>\n      <td>581587</td>\n      <td>23254</td>\n      <td>CHILDRENS CUTLERY DOLLY GIRL</td>\n      <td>4</td>\n      <td>2011-12-09 12:50:00</td>\n      <td>4.15</td>\n      <td>12680.00</td>\n      <td>France</td>\n    </tr>\n    <tr>\n      <th>541907</th>\n      <td>581587</td>\n      <td>23255</td>\n      <td>CHILDRENS CUTLERY CIRCUS PARADE</td>\n      <td>4</td>\n      <td>2011-12-09 12:50:00</td>\n      <td>4.15</td>\n      <td>12680.00</td>\n      <td>France</td>\n    </tr>\n    <tr>\n      <th>541908</th>\n      <td>581587</td>\n      <td>22138</td>\n      <td>BAKING SET 9 PIECE RETROSPOT</td>\n      <td>3</td>\n      <td>2011-12-09 12:50:00</td>\n      <td>4.95</td>\n      <td>12680.00</td>\n      <td>France</td>\n    </tr>\n  </tbody>\n</table>\n<p>541909 rows × 8 columns</p>\n</div>"
     },
     "metadata": {},
     "execution_count": 8
    }
   ],
   "source": [
    "df"
   ]
  },
  {
   "source": [
    "### Convertendo as colunas que contenham texto para string"
   ],
   "cell_type": "markdown",
   "metadata": {}
  },
  {
   "cell_type": "code",
   "execution_count": 9,
   "metadata": {},
   "outputs": [],
   "source": [
    "df['InvoiceNo'] = df['InvoiceNo'].astype('str')\n",
    "df['StockCode'] = df['StockCode'].astype('str')\n",
    "df['Description'] = df['Description'].astype('str')\n",
    "df['Country'] = df['Country'].astype('str')"
   ]
  },
  {
   "source": [
    "### Removendo espaços errados (começo ou final) das strings"
   ],
   "cell_type": "markdown",
   "metadata": {}
  },
  {
   "cell_type": "code",
   "execution_count": 10,
   "metadata": {},
   "outputs": [],
   "source": [
    "df['InvoiceNo'] = df['InvoiceNo'].str.strip()\n",
    "df['StockCode'] = df['StockCode'].str.strip()\n",
    "df['Description'] = df['Description'].str.strip()\n",
    "df['Country'] = df['Country'].str.strip()"
   ]
  },
  {
   "source": [
    "### Filtrando resultados com dados de 'Quantity' e 'UnitPrice' coerentes com a realidade"
   ],
   "cell_type": "markdown",
   "metadata": {}
  },
  {
   "cell_type": "code",
   "execution_count": 11,
   "metadata": {},
   "outputs": [],
   "source": [
    "df = df[(df['Quantity'] >= 0) & (df['UnitPrice'] >= 0)]"
   ]
  },
  {
   "cell_type": "code",
   "execution_count": 12,
   "metadata": {},
   "outputs": [
    {
     "output_type": "execute_result",
     "data": {
      "text/plain": [
       "       InvoiceNo StockCode                          Description  Quantity  \\\n",
       "0         536365    85123A   WHITE HANGING HEART T-LIGHT HOLDER         6   \n",
       "1         536365     71053                  WHITE METAL LANTERN         6   \n",
       "2         536365    84406B       CREAM CUPID HEARTS COAT HANGER         8   \n",
       "3         536365    84029G  KNITTED UNION FLAG HOT WATER BOTTLE         6   \n",
       "4         536365    84029E       RED WOOLLY HOTTIE WHITE HEART.         6   \n",
       "...          ...       ...                                  ...       ...   \n",
       "541904    581587     22613          PACK OF 20 SPACEBOY NAPKINS        12   \n",
       "541905    581587     22899          CHILDREN'S APRON DOLLY GIRL         6   \n",
       "541906    581587     23254         CHILDRENS CUTLERY DOLLY GIRL         4   \n",
       "541907    581587     23255      CHILDRENS CUTLERY CIRCUS PARADE         4   \n",
       "541908    581587     22138         BAKING SET 9 PIECE RETROSPOT         3   \n",
       "\n",
       "               InvoiceDate  UnitPrice  CustomerID         Country  \n",
       "0      2010-12-01 08:26:00       2.55    17850.00  United Kingdom  \n",
       "1      2010-12-01 08:26:00       3.39    17850.00  United Kingdom  \n",
       "2      2010-12-01 08:26:00       2.75    17850.00  United Kingdom  \n",
       "3      2010-12-01 08:26:00       3.39    17850.00  United Kingdom  \n",
       "4      2010-12-01 08:26:00       3.39    17850.00  United Kingdom  \n",
       "...                    ...        ...         ...             ...  \n",
       "541904 2011-12-09 12:50:00       0.85    12680.00          France  \n",
       "541905 2011-12-09 12:50:00       2.10    12680.00          France  \n",
       "541906 2011-12-09 12:50:00       4.15    12680.00          France  \n",
       "541907 2011-12-09 12:50:00       4.15    12680.00          France  \n",
       "541908 2011-12-09 12:50:00       4.95    12680.00          France  \n",
       "\n",
       "[531283 rows x 8 columns]"
      ],
      "text/html": "<div>\n<style scoped>\n    .dataframe tbody tr th:only-of-type {\n        vertical-align: middle;\n    }\n\n    .dataframe tbody tr th {\n        vertical-align: top;\n    }\n\n    .dataframe thead th {\n        text-align: right;\n    }\n</style>\n<table border=\"1\" class=\"dataframe\">\n  <thead>\n    <tr style=\"text-align: right;\">\n      <th></th>\n      <th>InvoiceNo</th>\n      <th>StockCode</th>\n      <th>Description</th>\n      <th>Quantity</th>\n      <th>InvoiceDate</th>\n      <th>UnitPrice</th>\n      <th>CustomerID</th>\n      <th>Country</th>\n    </tr>\n  </thead>\n  <tbody>\n    <tr>\n      <th>0</th>\n      <td>536365</td>\n      <td>85123A</td>\n      <td>WHITE HANGING HEART T-LIGHT HOLDER</td>\n      <td>6</td>\n      <td>2010-12-01 08:26:00</td>\n      <td>2.55</td>\n      <td>17850.00</td>\n      <td>United Kingdom</td>\n    </tr>\n    <tr>\n      <th>1</th>\n      <td>536365</td>\n      <td>71053</td>\n      <td>WHITE METAL LANTERN</td>\n      <td>6</td>\n      <td>2010-12-01 08:26:00</td>\n      <td>3.39</td>\n      <td>17850.00</td>\n      <td>United Kingdom</td>\n    </tr>\n    <tr>\n      <th>2</th>\n      <td>536365</td>\n      <td>84406B</td>\n      <td>CREAM CUPID HEARTS COAT HANGER</td>\n      <td>8</td>\n      <td>2010-12-01 08:26:00</td>\n      <td>2.75</td>\n      <td>17850.00</td>\n      <td>United Kingdom</td>\n    </tr>\n    <tr>\n      <th>3</th>\n      <td>536365</td>\n      <td>84029G</td>\n      <td>KNITTED UNION FLAG HOT WATER BOTTLE</td>\n      <td>6</td>\n      <td>2010-12-01 08:26:00</td>\n      <td>3.39</td>\n      <td>17850.00</td>\n      <td>United Kingdom</td>\n    </tr>\n    <tr>\n      <th>4</th>\n      <td>536365</td>\n      <td>84029E</td>\n      <td>RED WOOLLY HOTTIE WHITE HEART.</td>\n      <td>6</td>\n      <td>2010-12-01 08:26:00</td>\n      <td>3.39</td>\n      <td>17850.00</td>\n      <td>United Kingdom</td>\n    </tr>\n    <tr>\n      <th>...</th>\n      <td>...</td>\n      <td>...</td>\n      <td>...</td>\n      <td>...</td>\n      <td>...</td>\n      <td>...</td>\n      <td>...</td>\n      <td>...</td>\n    </tr>\n    <tr>\n      <th>541904</th>\n      <td>581587</td>\n      <td>22613</td>\n      <td>PACK OF 20 SPACEBOY NAPKINS</td>\n      <td>12</td>\n      <td>2011-12-09 12:50:00</td>\n      <td>0.85</td>\n      <td>12680.00</td>\n      <td>France</td>\n    </tr>\n    <tr>\n      <th>541905</th>\n      <td>581587</td>\n      <td>22899</td>\n      <td>CHILDREN'S APRON DOLLY GIRL</td>\n      <td>6</td>\n      <td>2011-12-09 12:50:00</td>\n      <td>2.10</td>\n      <td>12680.00</td>\n      <td>France</td>\n    </tr>\n    <tr>\n      <th>541906</th>\n      <td>581587</td>\n      <td>23254</td>\n      <td>CHILDRENS CUTLERY DOLLY GIRL</td>\n      <td>4</td>\n      <td>2011-12-09 12:50:00</td>\n      <td>4.15</td>\n      <td>12680.00</td>\n      <td>France</td>\n    </tr>\n    <tr>\n      <th>541907</th>\n      <td>581587</td>\n      <td>23255</td>\n      <td>CHILDRENS CUTLERY CIRCUS PARADE</td>\n      <td>4</td>\n      <td>2011-12-09 12:50:00</td>\n      <td>4.15</td>\n      <td>12680.00</td>\n      <td>France</td>\n    </tr>\n    <tr>\n      <th>541908</th>\n      <td>581587</td>\n      <td>22138</td>\n      <td>BAKING SET 9 PIECE RETROSPOT</td>\n      <td>3</td>\n      <td>2011-12-09 12:50:00</td>\n      <td>4.95</td>\n      <td>12680.00</td>\n      <td>France</td>\n    </tr>\n  </tbody>\n</table>\n<p>531283 rows × 8 columns</p>\n</div>"
     },
     "metadata": {},
     "execution_count": 12
    }
   ],
   "source": [
    "df"
   ]
  },
  {
   "source": [
    "## Escolhendo país para análise"
   ],
   "cell_type": "markdown",
   "metadata": {}
  },
  {
   "source": [
    "### Checando a quantidade de 'InvoiceNo' presente em cada país"
   ],
   "cell_type": "markdown",
   "metadata": {}
  },
  {
   "cell_type": "code",
   "execution_count": 13,
   "metadata": {},
   "outputs": [
    {
     "output_type": "execute_result",
     "data": {
      "text/plain": [
       "Country\n",
       "Australia                 1185\n",
       "Austria                    398\n",
       "Bahrain                     18\n",
       "Belgium                   2031\n",
       "Brazil                      32\n",
       "                         ...  \n",
       "Switzerland               1967\n",
       "USA                        179\n",
       "United Arab Emirates        68\n",
       "United Kingdom          486284\n",
       "Unspecified                446\n",
       "Name: InvoiceNo, Length: 38, dtype: int64"
      ]
     },
     "metadata": {},
     "execution_count": 13
    }
   ],
   "source": [
    "df.groupby(['Country'])['InvoiceNo'].count()"
   ]
  },
  {
   "source": [
    "### Escolhendo a 'Germany' por possuir uma quantidade significativa de dados"
   ],
   "cell_type": "markdown",
   "metadata": {}
  },
  {
   "cell_type": "code",
   "execution_count": 14,
   "metadata": {},
   "outputs": [],
   "source": [
    "pais = 'Germany'"
   ]
  },
  {
   "cell_type": "code",
   "execution_count": 15,
   "metadata": {},
   "outputs": [],
   "source": [
    "df_germany = df[df['Country'] == pais]"
   ]
  },
  {
   "source": [
    "## Preparação dos dados para construir a correlação"
   ],
   "cell_type": "markdown",
   "metadata": {}
  },
  {
   "source": [
    "### Agrupando por 'InvoiceNo' (id da compra/transação) e 'Description' para separar o dataset em transações detalhadas (carrinhos de compras)"
   ],
   "cell_type": "markdown",
   "metadata": {}
  },
  {
   "cell_type": "code",
   "execution_count": 16,
   "metadata": {},
   "outputs": [],
   "source": [
    "df_grouped_germany = df_germany.groupby(['InvoiceNo', 'Description'])['Quantity'].sum()"
   ]
  },
  {
   "source": [
    "### Resultado do agrupamento"
   ],
   "cell_type": "markdown",
   "metadata": {}
  },
  {
   "cell_type": "code",
   "execution_count": 17,
   "metadata": {},
   "outputs": [
    {
     "output_type": "execute_result",
     "data": {
      "text/plain": [
       "InvoiceNo  Description                        \n",
       "536527     3 HOOK HANGER MAGIC GARDEN             12\n",
       "           5 HOOK HANGER MAGIC TOADSTOOL          12\n",
       "           5 HOOK HANGER RED MAGIC TOADSTOOL      12\n",
       "           ASSORTED COLOUR LIZARD SUCTION HOOK    24\n",
       "           CHILDREN'S CIRCUS PARADE MUG           12\n",
       "                                                  ..\n",
       "581578     SPOTTY BUNTING                          9\n",
       "           VINTAGE DONKEY TAIL GAME                6\n",
       "           WRAP ALPHABET POSTER                   25\n",
       "           WRAP CIRCUS PARADE                     25\n",
       "           WRAP RED APPLES                        25\n",
       "Name: Quantity, Length: 9015, dtype: int64"
      ]
     },
     "metadata": {},
     "execution_count": 17
    }
   ],
   "source": [
    "df_grouped_germany"
   ]
  },
  {
   "source": [
    "### Usando função 'pandas.unstack' para selecionar uma coluna e transformar todas as suas linhas em coluna."
   ],
   "cell_type": "markdown",
   "metadata": {}
  },
  {
   "cell_type": "code",
   "execution_count": 18,
   "metadata": {},
   "outputs": [],
   "source": [
    "carrinho_compras_germany = df_grouped_germany.unstack(level=1, fill_value=0)"
   ]
  },
  {
   "source": [
    "### Resultado da transformação, observe que agora todas as linhas são equivalentes as compras (carrinhos) e que cada coluna é um tipo de produto e o valor a quantidade comprada por aquele cliente."
   ],
   "cell_type": "markdown",
   "metadata": {}
  },
  {
   "cell_type": "code",
   "execution_count": 19,
   "metadata": {},
   "outputs": [
    {
     "output_type": "execute_result",
     "data": {
      "text/plain": [
       "Description  10 COLOUR SPACEBOY PEN  12 COLOURED PARTY BALLOONS  \\\n",
       "InvoiceNo                                                         \n",
       "536527                            0                           0   \n",
       "536840                            0                           0   \n",
       "536861                            0                           0   \n",
       "536967                            0                           0   \n",
       "536983                            0                           0   \n",
       "...                             ...                         ...   \n",
       "581266                            0                           0   \n",
       "581494                            0                           0   \n",
       "581570                            0                           0   \n",
       "581574                            0                           0   \n",
       "581578                            0                           0   \n",
       "\n",
       "Description  12 IVORY ROSE PEG PLACE SETTINGS  \\\n",
       "InvoiceNo                                       \n",
       "536527                                      0   \n",
       "536840                                      0   \n",
       "536861                                      0   \n",
       "536967                                      0   \n",
       "536983                                      0   \n",
       "...                                       ...   \n",
       "581266                                      0   \n",
       "581494                                      0   \n",
       "581570                                      0   \n",
       "581574                                      0   \n",
       "581578                                      0   \n",
       "\n",
       "Description  12 MESSAGE CARDS WITH ENVELOPES  12 PENCIL SMALL TUBE WOODLAND  \\\n",
       "InvoiceNo                                                                     \n",
       "536527                                     0                              0   \n",
       "536840                                     0                              0   \n",
       "536861                                     0                              0   \n",
       "536967                                     0                              0   \n",
       "536983                                     0                              0   \n",
       "...                                      ...                            ...   \n",
       "581266                                     0                              0   \n",
       "581494                                     0                              0   \n",
       "581570                                     0                              0   \n",
       "581574                                     0                              0   \n",
       "581578                                     0                              0   \n",
       "\n",
       "Description  12 PENCILS SMALL TUBE RED RETROSPOT  12 PENCILS SMALL TUBE SKULL  \\\n",
       "InvoiceNo                                                                       \n",
       "536527                                         0                            0   \n",
       "536840                                         0                            0   \n",
       "536861                                         0                            0   \n",
       "536967                                         0                            0   \n",
       "536983                                         0                            0   \n",
       "...                                          ...                          ...   \n",
       "581266                                         0                            0   \n",
       "581494                                         0                            0   \n",
       "581570                                         0                            0   \n",
       "581574                                         0                            0   \n",
       "581578                                         0                            0   \n",
       "\n",
       "Description  12 PENCILS TALL TUBE POSY  12 PENCILS TALL TUBE RED RETROSPOT  \\\n",
       "InvoiceNo                                                                    \n",
       "536527                               0                                   0   \n",
       "536840                               0                                   0   \n",
       "536861                               0                                   0   \n",
       "536967                               0                                   0   \n",
       "536983                               0                                   0   \n",
       "...                                ...                                 ...   \n",
       "581266                               0                                   0   \n",
       "581494                               0                                   0   \n",
       "581570                               0                                   0   \n",
       "581574                               0                                   0   \n",
       "581578                               0                                   0   \n",
       "\n",
       "Description  12 PENCILS TALL TUBE SKULLS  ...  YULETIDE IMAGES GIFT WRAP SET  \\\n",
       "InvoiceNo                                 ...                                  \n",
       "536527                                 0  ...                              0   \n",
       "536840                                 0  ...                              0   \n",
       "536861                                 0  ...                              0   \n",
       "536967                                 0  ...                              0   \n",
       "536983                                 0  ...                              0   \n",
       "...                                  ...  ...                            ...   \n",
       "581266                                 0  ...                              0   \n",
       "581494                                 0  ...                              0   \n",
       "581570                                 0  ...                              0   \n",
       "581574                                 0  ...                              0   \n",
       "581578                                 0  ...                              0   \n",
       "\n",
       "Description  ZINC  HEART T-LIGHT HOLDER  ZINC  STAR T-LIGHT HOLDER  \\\n",
       "InvoiceNo                                                            \n",
       "536527                                0                          0   \n",
       "536840                                0                          0   \n",
       "536861                                0                          0   \n",
       "536967                                0                          0   \n",
       "536983                                0                          0   \n",
       "...                                 ...                        ...   \n",
       "581266                                0                          0   \n",
       "581494                                0                          0   \n",
       "581570                                0                          0   \n",
       "581574                                0                          0   \n",
       "581578                                0                          0   \n",
       "\n",
       "Description  ZINC BOX SIGN HOME  ZINC FOLKART SLEIGH BELLS  \\\n",
       "InvoiceNo                                                    \n",
       "536527                        0                          0   \n",
       "536840                        0                          0   \n",
       "536861                        0                          0   \n",
       "536967                        0                          0   \n",
       "536983                        0                          0   \n",
       "...                         ...                        ...   \n",
       "581266                        0                          0   \n",
       "581494                        0                          0   \n",
       "581570                        0                          0   \n",
       "581574                        0                          0   \n",
       "581578                        0                          0   \n",
       "\n",
       "Description  ZINC HEART LATTICE T-LIGHT HOLDER  ZINC METAL HEART DECORATION  \\\n",
       "InvoiceNo                                                                     \n",
       "536527                                       0                            0   \n",
       "536840                                       0                            0   \n",
       "536861                                       0                            0   \n",
       "536967                                       0                            0   \n",
       "536983                                       0                            0   \n",
       "...                                        ...                          ...   \n",
       "581266                                       0                            0   \n",
       "581494                                       0                            0   \n",
       "581570                                       0                            0   \n",
       "581574                                       0                            0   \n",
       "581578                                       0                            0   \n",
       "\n",
       "Description  ZINC T-LIGHT HOLDER STAR LARGE  ZINC T-LIGHT HOLDER STARS SMALL  \\\n",
       "InvoiceNo                                                                      \n",
       "536527                                    0                                0   \n",
       "536840                                    0                                0   \n",
       "536861                                    0                                0   \n",
       "536967                                    0                                0   \n",
       "536983                                    0                                0   \n",
       "...                                     ...                              ...   \n",
       "581266                                    0                                0   \n",
       "581494                                    0                                0   \n",
       "581570                                    0                                0   \n",
       "581574                                    0                                0   \n",
       "581578                                    0                                0   \n",
       "\n",
       "Description  ZINC WILLIE WINKIE  CANDLE STICK  \n",
       "InvoiceNo                                      \n",
       "536527                                      0  \n",
       "536840                                      0  \n",
       "536861                                      0  \n",
       "536967                                      0  \n",
       "536983                                      0  \n",
       "...                                       ...  \n",
       "581266                                      0  \n",
       "581494                                      0  \n",
       "581570                                      0  \n",
       "581574                                      0  \n",
       "581578                                      0  \n",
       "\n",
       "[457 rows x 1695 columns]"
      ],
      "text/html": "<div>\n<style scoped>\n    .dataframe tbody tr th:only-of-type {\n        vertical-align: middle;\n    }\n\n    .dataframe tbody tr th {\n        vertical-align: top;\n    }\n\n    .dataframe thead th {\n        text-align: right;\n    }\n</style>\n<table border=\"1\" class=\"dataframe\">\n  <thead>\n    <tr style=\"text-align: right;\">\n      <th>Description</th>\n      <th>10 COLOUR SPACEBOY PEN</th>\n      <th>12 COLOURED PARTY BALLOONS</th>\n      <th>12 IVORY ROSE PEG PLACE SETTINGS</th>\n      <th>12 MESSAGE CARDS WITH ENVELOPES</th>\n      <th>12 PENCIL SMALL TUBE WOODLAND</th>\n      <th>12 PENCILS SMALL TUBE RED RETROSPOT</th>\n      <th>12 PENCILS SMALL TUBE SKULL</th>\n      <th>12 PENCILS TALL TUBE POSY</th>\n      <th>12 PENCILS TALL TUBE RED RETROSPOT</th>\n      <th>12 PENCILS TALL TUBE SKULLS</th>\n      <th>...</th>\n      <th>YULETIDE IMAGES GIFT WRAP SET</th>\n      <th>ZINC  HEART T-LIGHT HOLDER</th>\n      <th>ZINC  STAR T-LIGHT HOLDER</th>\n      <th>ZINC BOX SIGN HOME</th>\n      <th>ZINC FOLKART SLEIGH BELLS</th>\n      <th>ZINC HEART LATTICE T-LIGHT HOLDER</th>\n      <th>ZINC METAL HEART DECORATION</th>\n      <th>ZINC T-LIGHT HOLDER STAR LARGE</th>\n      <th>ZINC T-LIGHT HOLDER STARS SMALL</th>\n      <th>ZINC WILLIE WINKIE  CANDLE STICK</th>\n    </tr>\n    <tr>\n      <th>InvoiceNo</th>\n      <th></th>\n      <th></th>\n      <th></th>\n      <th></th>\n      <th></th>\n      <th></th>\n      <th></th>\n      <th></th>\n      <th></th>\n      <th></th>\n      <th></th>\n      <th></th>\n      <th></th>\n      <th></th>\n      <th></th>\n      <th></th>\n      <th></th>\n      <th></th>\n      <th></th>\n      <th></th>\n      <th></th>\n    </tr>\n  </thead>\n  <tbody>\n    <tr>\n      <th>536527</th>\n      <td>0</td>\n      <td>0</td>\n      <td>0</td>\n      <td>0</td>\n      <td>0</td>\n      <td>0</td>\n      <td>0</td>\n      <td>0</td>\n      <td>0</td>\n      <td>0</td>\n      <td>...</td>\n      <td>0</td>\n      <td>0</td>\n      <td>0</td>\n      <td>0</td>\n      <td>0</td>\n      <td>0</td>\n      <td>0</td>\n      <td>0</td>\n      <td>0</td>\n      <td>0</td>\n    </tr>\n    <tr>\n      <th>536840</th>\n      <td>0</td>\n      <td>0</td>\n      <td>0</td>\n      <td>0</td>\n      <td>0</td>\n      <td>0</td>\n      <td>0</td>\n      <td>0</td>\n      <td>0</td>\n      <td>0</td>\n      <td>...</td>\n      <td>0</td>\n      <td>0</td>\n      <td>0</td>\n      <td>0</td>\n      <td>0</td>\n      <td>0</td>\n      <td>0</td>\n      <td>0</td>\n      <td>0</td>\n      <td>0</td>\n    </tr>\n    <tr>\n      <th>536861</th>\n      <td>0</td>\n      <td>0</td>\n      <td>0</td>\n      <td>0</td>\n      <td>0</td>\n      <td>0</td>\n      <td>0</td>\n      <td>0</td>\n      <td>0</td>\n      <td>0</td>\n      <td>...</td>\n      <td>0</td>\n      <td>0</td>\n      <td>0</td>\n      <td>0</td>\n      <td>0</td>\n      <td>0</td>\n      <td>0</td>\n      <td>0</td>\n      <td>0</td>\n      <td>0</td>\n    </tr>\n    <tr>\n      <th>536967</th>\n      <td>0</td>\n      <td>0</td>\n      <td>0</td>\n      <td>0</td>\n      <td>0</td>\n      <td>0</td>\n      <td>0</td>\n      <td>0</td>\n      <td>0</td>\n      <td>0</td>\n      <td>...</td>\n      <td>0</td>\n      <td>0</td>\n      <td>0</td>\n      <td>0</td>\n      <td>0</td>\n      <td>0</td>\n      <td>0</td>\n      <td>0</td>\n      <td>0</td>\n      <td>0</td>\n    </tr>\n    <tr>\n      <th>536983</th>\n      <td>0</td>\n      <td>0</td>\n      <td>0</td>\n      <td>0</td>\n      <td>0</td>\n      <td>0</td>\n      <td>0</td>\n      <td>0</td>\n      <td>0</td>\n      <td>0</td>\n      <td>...</td>\n      <td>0</td>\n      <td>0</td>\n      <td>0</td>\n      <td>0</td>\n      <td>0</td>\n      <td>0</td>\n      <td>0</td>\n      <td>0</td>\n      <td>0</td>\n      <td>0</td>\n    </tr>\n    <tr>\n      <th>...</th>\n      <td>...</td>\n      <td>...</td>\n      <td>...</td>\n      <td>...</td>\n      <td>...</td>\n      <td>...</td>\n      <td>...</td>\n      <td>...</td>\n      <td>...</td>\n      <td>...</td>\n      <td>...</td>\n      <td>...</td>\n      <td>...</td>\n      <td>...</td>\n      <td>...</td>\n      <td>...</td>\n      <td>...</td>\n      <td>...</td>\n      <td>...</td>\n      <td>...</td>\n      <td>...</td>\n    </tr>\n    <tr>\n      <th>581266</th>\n      <td>0</td>\n      <td>0</td>\n      <td>0</td>\n      <td>0</td>\n      <td>0</td>\n      <td>0</td>\n      <td>0</td>\n      <td>0</td>\n      <td>0</td>\n      <td>0</td>\n      <td>...</td>\n      <td>0</td>\n      <td>0</td>\n      <td>0</td>\n      <td>0</td>\n      <td>0</td>\n      <td>0</td>\n      <td>0</td>\n      <td>0</td>\n      <td>0</td>\n      <td>0</td>\n    </tr>\n    <tr>\n      <th>581494</th>\n      <td>0</td>\n      <td>0</td>\n      <td>0</td>\n      <td>0</td>\n      <td>0</td>\n      <td>0</td>\n      <td>0</td>\n      <td>0</td>\n      <td>0</td>\n      <td>0</td>\n      <td>...</td>\n      <td>0</td>\n      <td>0</td>\n      <td>0</td>\n      <td>0</td>\n      <td>0</td>\n      <td>0</td>\n      <td>0</td>\n      <td>0</td>\n      <td>0</td>\n      <td>0</td>\n    </tr>\n    <tr>\n      <th>581570</th>\n      <td>0</td>\n      <td>0</td>\n      <td>0</td>\n      <td>0</td>\n      <td>0</td>\n      <td>0</td>\n      <td>0</td>\n      <td>0</td>\n      <td>0</td>\n      <td>0</td>\n      <td>...</td>\n      <td>0</td>\n      <td>0</td>\n      <td>0</td>\n      <td>0</td>\n      <td>0</td>\n      <td>0</td>\n      <td>0</td>\n      <td>0</td>\n      <td>0</td>\n      <td>0</td>\n    </tr>\n    <tr>\n      <th>581574</th>\n      <td>0</td>\n      <td>0</td>\n      <td>0</td>\n      <td>0</td>\n      <td>0</td>\n      <td>0</td>\n      <td>0</td>\n      <td>0</td>\n      <td>0</td>\n      <td>0</td>\n      <td>...</td>\n      <td>0</td>\n      <td>0</td>\n      <td>0</td>\n      <td>0</td>\n      <td>0</td>\n      <td>0</td>\n      <td>0</td>\n      <td>0</td>\n      <td>0</td>\n      <td>0</td>\n    </tr>\n    <tr>\n      <th>581578</th>\n      <td>0</td>\n      <td>0</td>\n      <td>0</td>\n      <td>0</td>\n      <td>0</td>\n      <td>0</td>\n      <td>0</td>\n      <td>0</td>\n      <td>0</td>\n      <td>0</td>\n      <td>...</td>\n      <td>0</td>\n      <td>0</td>\n      <td>0</td>\n      <td>0</td>\n      <td>0</td>\n      <td>0</td>\n      <td>0</td>\n      <td>0</td>\n      <td>0</td>\n      <td>0</td>\n    </tr>\n  </tbody>\n</table>\n<p>457 rows × 1695 columns</p>\n</div>"
     },
     "metadata": {},
     "execution_count": 19
    }
   ],
   "source": [
    "carrinho_compras_germany"
   ]
  },
  {
   "source": [
    "### Checando se a coluna 'InvoiceNo' é o índice do dataframe"
   ],
   "cell_type": "markdown",
   "metadata": {}
  },
  {
   "cell_type": "code",
   "execution_count": 20,
   "metadata": {},
   "outputs": [
    {
     "output_type": "execute_result",
     "data": {
      "text/plain": [
       "Index(['536527', '536840', '536861', '536967', '536983', '537197', '537198',\n",
       "       '537201', '537212', '537250',\n",
       "       ...\n",
       "       '580648', '581000', '581179', '581183', '581184', '581266', '581494',\n",
       "       '581570', '581574', '581578'],\n",
       "      dtype='object', name='InvoiceNo', length=457)"
      ]
     },
     "metadata": {},
     "execution_count": 20
    }
   ],
   "source": [
    "carrinho_compras_germany.index"
   ]
  },
  {
   "source": [
    "### Caso não fosse, bastaria utilizar 'set_index'"
   ],
   "cell_type": "markdown",
   "metadata": {}
  },
  {
   "cell_type": "code",
   "execution_count": 21,
   "metadata": {},
   "outputs": [],
   "source": [
    "# carrinho_compras_germany.reset_index().set_index('InvoiceNo')"
   ]
  },
  {
   "cell_type": "code",
   "execution_count": 22,
   "metadata": {},
   "outputs": [],
   "source": [
    "# carrinho_compras_germany.index"
   ]
  },
  {
   "source": [
    "### Convertendo as quantidades dos itens comprados para booleano, pois para o algoritmo basta estar ou não no carrinho."
   ],
   "cell_type": "markdown",
   "metadata": {}
  },
  {
   "cell_type": "code",
   "execution_count": 23,
   "metadata": {},
   "outputs": [],
   "source": [
    "carrinho_compras_germany = carrinho_compras_germany.applymap(lambda item: 1 if item > 0 else 0)"
   ]
  },
  {
   "cell_type": "code",
   "execution_count": 24,
   "metadata": {},
   "outputs": [
    {
     "output_type": "execute_result",
     "data": {
      "text/plain": [
       "Description  10 COLOUR SPACEBOY PEN  12 COLOURED PARTY BALLOONS  \\\n",
       "InvoiceNo                                                         \n",
       "536527                            0                           0   \n",
       "536840                            0                           0   \n",
       "536861                            0                           0   \n",
       "536967                            0                           0   \n",
       "536983                            0                           0   \n",
       "...                             ...                         ...   \n",
       "581266                            0                           0   \n",
       "581494                            0                           0   \n",
       "581570                            0                           0   \n",
       "581574                            0                           0   \n",
       "581578                            0                           0   \n",
       "\n",
       "Description  12 IVORY ROSE PEG PLACE SETTINGS  \\\n",
       "InvoiceNo                                       \n",
       "536527                                      0   \n",
       "536840                                      0   \n",
       "536861                                      0   \n",
       "536967                                      0   \n",
       "536983                                      0   \n",
       "...                                       ...   \n",
       "581266                                      0   \n",
       "581494                                      0   \n",
       "581570                                      0   \n",
       "581574                                      0   \n",
       "581578                                      0   \n",
       "\n",
       "Description  12 MESSAGE CARDS WITH ENVELOPES  12 PENCIL SMALL TUBE WOODLAND  \\\n",
       "InvoiceNo                                                                     \n",
       "536527                                     0                              0   \n",
       "536840                                     0                              0   \n",
       "536861                                     0                              0   \n",
       "536967                                     0                              0   \n",
       "536983                                     0                              0   \n",
       "...                                      ...                            ...   \n",
       "581266                                     0                              0   \n",
       "581494                                     0                              0   \n",
       "581570                                     0                              0   \n",
       "581574                                     0                              0   \n",
       "581578                                     0                              0   \n",
       "\n",
       "Description  12 PENCILS SMALL TUBE RED RETROSPOT  12 PENCILS SMALL TUBE SKULL  \\\n",
       "InvoiceNo                                                                       \n",
       "536527                                         0                            0   \n",
       "536840                                         0                            0   \n",
       "536861                                         0                            0   \n",
       "536967                                         0                            0   \n",
       "536983                                         0                            0   \n",
       "...                                          ...                          ...   \n",
       "581266                                         0                            0   \n",
       "581494                                         0                            0   \n",
       "581570                                         0                            0   \n",
       "581574                                         0                            0   \n",
       "581578                                         0                            0   \n",
       "\n",
       "Description  12 PENCILS TALL TUBE POSY  12 PENCILS TALL TUBE RED RETROSPOT  \\\n",
       "InvoiceNo                                                                    \n",
       "536527                               0                                   0   \n",
       "536840                               0                                   0   \n",
       "536861                               0                                   0   \n",
       "536967                               0                                   0   \n",
       "536983                               0                                   0   \n",
       "...                                ...                                 ...   \n",
       "581266                               0                                   0   \n",
       "581494                               0                                   0   \n",
       "581570                               0                                   0   \n",
       "581574                               0                                   0   \n",
       "581578                               0                                   0   \n",
       "\n",
       "Description  12 PENCILS TALL TUBE SKULLS  ...  YULETIDE IMAGES GIFT WRAP SET  \\\n",
       "InvoiceNo                                 ...                                  \n",
       "536527                                 0  ...                              0   \n",
       "536840                                 0  ...                              0   \n",
       "536861                                 0  ...                              0   \n",
       "536967                                 0  ...                              0   \n",
       "536983                                 0  ...                              0   \n",
       "...                                  ...  ...                            ...   \n",
       "581266                                 0  ...                              0   \n",
       "581494                                 0  ...                              0   \n",
       "581570                                 0  ...                              0   \n",
       "581574                                 0  ...                              0   \n",
       "581578                                 0  ...                              0   \n",
       "\n",
       "Description  ZINC  HEART T-LIGHT HOLDER  ZINC  STAR T-LIGHT HOLDER  \\\n",
       "InvoiceNo                                                            \n",
       "536527                                0                          0   \n",
       "536840                                0                          0   \n",
       "536861                                0                          0   \n",
       "536967                                0                          0   \n",
       "536983                                0                          0   \n",
       "...                                 ...                        ...   \n",
       "581266                                0                          0   \n",
       "581494                                0                          0   \n",
       "581570                                0                          0   \n",
       "581574                                0                          0   \n",
       "581578                                0                          0   \n",
       "\n",
       "Description  ZINC BOX SIGN HOME  ZINC FOLKART SLEIGH BELLS  \\\n",
       "InvoiceNo                                                    \n",
       "536527                        0                          0   \n",
       "536840                        0                          0   \n",
       "536861                        0                          0   \n",
       "536967                        0                          0   \n",
       "536983                        0                          0   \n",
       "...                         ...                        ...   \n",
       "581266                        0                          0   \n",
       "581494                        0                          0   \n",
       "581570                        0                          0   \n",
       "581574                        0                          0   \n",
       "581578                        0                          0   \n",
       "\n",
       "Description  ZINC HEART LATTICE T-LIGHT HOLDER  ZINC METAL HEART DECORATION  \\\n",
       "InvoiceNo                                                                     \n",
       "536527                                       0                            0   \n",
       "536840                                       0                            0   \n",
       "536861                                       0                            0   \n",
       "536967                                       0                            0   \n",
       "536983                                       0                            0   \n",
       "...                                        ...                          ...   \n",
       "581266                                       0                            0   \n",
       "581494                                       0                            0   \n",
       "581570                                       0                            0   \n",
       "581574                                       0                            0   \n",
       "581578                                       0                            0   \n",
       "\n",
       "Description  ZINC T-LIGHT HOLDER STAR LARGE  ZINC T-LIGHT HOLDER STARS SMALL  \\\n",
       "InvoiceNo                                                                      \n",
       "536527                                    0                                0   \n",
       "536840                                    0                                0   \n",
       "536861                                    0                                0   \n",
       "536967                                    0                                0   \n",
       "536983                                    0                                0   \n",
       "...                                     ...                              ...   \n",
       "581266                                    0                                0   \n",
       "581494                                    0                                0   \n",
       "581570                                    0                                0   \n",
       "581574                                    0                                0   \n",
       "581578                                    0                                0   \n",
       "\n",
       "Description  ZINC WILLIE WINKIE  CANDLE STICK  \n",
       "InvoiceNo                                      \n",
       "536527                                      0  \n",
       "536840                                      0  \n",
       "536861                                      0  \n",
       "536967                                      0  \n",
       "536983                                      0  \n",
       "...                                       ...  \n",
       "581266                                      0  \n",
       "581494                                      0  \n",
       "581570                                      0  \n",
       "581574                                      0  \n",
       "581578                                      0  \n",
       "\n",
       "[457 rows x 1695 columns]"
      ],
      "text/html": "<div>\n<style scoped>\n    .dataframe tbody tr th:only-of-type {\n        vertical-align: middle;\n    }\n\n    .dataframe tbody tr th {\n        vertical-align: top;\n    }\n\n    .dataframe thead th {\n        text-align: right;\n    }\n</style>\n<table border=\"1\" class=\"dataframe\">\n  <thead>\n    <tr style=\"text-align: right;\">\n      <th>Description</th>\n      <th>10 COLOUR SPACEBOY PEN</th>\n      <th>12 COLOURED PARTY BALLOONS</th>\n      <th>12 IVORY ROSE PEG PLACE SETTINGS</th>\n      <th>12 MESSAGE CARDS WITH ENVELOPES</th>\n      <th>12 PENCIL SMALL TUBE WOODLAND</th>\n      <th>12 PENCILS SMALL TUBE RED RETROSPOT</th>\n      <th>12 PENCILS SMALL TUBE SKULL</th>\n      <th>12 PENCILS TALL TUBE POSY</th>\n      <th>12 PENCILS TALL TUBE RED RETROSPOT</th>\n      <th>12 PENCILS TALL TUBE SKULLS</th>\n      <th>...</th>\n      <th>YULETIDE IMAGES GIFT WRAP SET</th>\n      <th>ZINC  HEART T-LIGHT HOLDER</th>\n      <th>ZINC  STAR T-LIGHT HOLDER</th>\n      <th>ZINC BOX SIGN HOME</th>\n      <th>ZINC FOLKART SLEIGH BELLS</th>\n      <th>ZINC HEART LATTICE T-LIGHT HOLDER</th>\n      <th>ZINC METAL HEART DECORATION</th>\n      <th>ZINC T-LIGHT HOLDER STAR LARGE</th>\n      <th>ZINC T-LIGHT HOLDER STARS SMALL</th>\n      <th>ZINC WILLIE WINKIE  CANDLE STICK</th>\n    </tr>\n    <tr>\n      <th>InvoiceNo</th>\n      <th></th>\n      <th></th>\n      <th></th>\n      <th></th>\n      <th></th>\n      <th></th>\n      <th></th>\n      <th></th>\n      <th></th>\n      <th></th>\n      <th></th>\n      <th></th>\n      <th></th>\n      <th></th>\n      <th></th>\n      <th></th>\n      <th></th>\n      <th></th>\n      <th></th>\n      <th></th>\n      <th></th>\n    </tr>\n  </thead>\n  <tbody>\n    <tr>\n      <th>536527</th>\n      <td>0</td>\n      <td>0</td>\n      <td>0</td>\n      <td>0</td>\n      <td>0</td>\n      <td>0</td>\n      <td>0</td>\n      <td>0</td>\n      <td>0</td>\n      <td>0</td>\n      <td>...</td>\n      <td>0</td>\n      <td>0</td>\n      <td>0</td>\n      <td>0</td>\n      <td>0</td>\n      <td>0</td>\n      <td>0</td>\n      <td>0</td>\n      <td>0</td>\n      <td>0</td>\n    </tr>\n    <tr>\n      <th>536840</th>\n      <td>0</td>\n      <td>0</td>\n      <td>0</td>\n      <td>0</td>\n      <td>0</td>\n      <td>0</td>\n      <td>0</td>\n      <td>0</td>\n      <td>0</td>\n      <td>0</td>\n      <td>...</td>\n      <td>0</td>\n      <td>0</td>\n      <td>0</td>\n      <td>0</td>\n      <td>0</td>\n      <td>0</td>\n      <td>0</td>\n      <td>0</td>\n      <td>0</td>\n      <td>0</td>\n    </tr>\n    <tr>\n      <th>536861</th>\n      <td>0</td>\n      <td>0</td>\n      <td>0</td>\n      <td>0</td>\n      <td>0</td>\n      <td>0</td>\n      <td>0</td>\n      <td>0</td>\n      <td>0</td>\n      <td>0</td>\n      <td>...</td>\n      <td>0</td>\n      <td>0</td>\n      <td>0</td>\n      <td>0</td>\n      <td>0</td>\n      <td>0</td>\n      <td>0</td>\n      <td>0</td>\n      <td>0</td>\n      <td>0</td>\n    </tr>\n    <tr>\n      <th>536967</th>\n      <td>0</td>\n      <td>0</td>\n      <td>0</td>\n      <td>0</td>\n      <td>0</td>\n      <td>0</td>\n      <td>0</td>\n      <td>0</td>\n      <td>0</td>\n      <td>0</td>\n      <td>...</td>\n      <td>0</td>\n      <td>0</td>\n      <td>0</td>\n      <td>0</td>\n      <td>0</td>\n      <td>0</td>\n      <td>0</td>\n      <td>0</td>\n      <td>0</td>\n      <td>0</td>\n    </tr>\n    <tr>\n      <th>536983</th>\n      <td>0</td>\n      <td>0</td>\n      <td>0</td>\n      <td>0</td>\n      <td>0</td>\n      <td>0</td>\n      <td>0</td>\n      <td>0</td>\n      <td>0</td>\n      <td>0</td>\n      <td>...</td>\n      <td>0</td>\n      <td>0</td>\n      <td>0</td>\n      <td>0</td>\n      <td>0</td>\n      <td>0</td>\n      <td>0</td>\n      <td>0</td>\n      <td>0</td>\n      <td>0</td>\n    </tr>\n    <tr>\n      <th>...</th>\n      <td>...</td>\n      <td>...</td>\n      <td>...</td>\n      <td>...</td>\n      <td>...</td>\n      <td>...</td>\n      <td>...</td>\n      <td>...</td>\n      <td>...</td>\n      <td>...</td>\n      <td>...</td>\n      <td>...</td>\n      <td>...</td>\n      <td>...</td>\n      <td>...</td>\n      <td>...</td>\n      <td>...</td>\n      <td>...</td>\n      <td>...</td>\n      <td>...</td>\n      <td>...</td>\n    </tr>\n    <tr>\n      <th>581266</th>\n      <td>0</td>\n      <td>0</td>\n      <td>0</td>\n      <td>0</td>\n      <td>0</td>\n      <td>0</td>\n      <td>0</td>\n      <td>0</td>\n      <td>0</td>\n      <td>0</td>\n      <td>...</td>\n      <td>0</td>\n      <td>0</td>\n      <td>0</td>\n      <td>0</td>\n      <td>0</td>\n      <td>0</td>\n      <td>0</td>\n      <td>0</td>\n      <td>0</td>\n      <td>0</td>\n    </tr>\n    <tr>\n      <th>581494</th>\n      <td>0</td>\n      <td>0</td>\n      <td>0</td>\n      <td>0</td>\n      <td>0</td>\n      <td>0</td>\n      <td>0</td>\n      <td>0</td>\n      <td>0</td>\n      <td>0</td>\n      <td>...</td>\n      <td>0</td>\n      <td>0</td>\n      <td>0</td>\n      <td>0</td>\n      <td>0</td>\n      <td>0</td>\n      <td>0</td>\n      <td>0</td>\n      <td>0</td>\n      <td>0</td>\n    </tr>\n    <tr>\n      <th>581570</th>\n      <td>0</td>\n      <td>0</td>\n      <td>0</td>\n      <td>0</td>\n      <td>0</td>\n      <td>0</td>\n      <td>0</td>\n      <td>0</td>\n      <td>0</td>\n      <td>0</td>\n      <td>...</td>\n      <td>0</td>\n      <td>0</td>\n      <td>0</td>\n      <td>0</td>\n      <td>0</td>\n      <td>0</td>\n      <td>0</td>\n      <td>0</td>\n      <td>0</td>\n      <td>0</td>\n    </tr>\n    <tr>\n      <th>581574</th>\n      <td>0</td>\n      <td>0</td>\n      <td>0</td>\n      <td>0</td>\n      <td>0</td>\n      <td>0</td>\n      <td>0</td>\n      <td>0</td>\n      <td>0</td>\n      <td>0</td>\n      <td>...</td>\n      <td>0</td>\n      <td>0</td>\n      <td>0</td>\n      <td>0</td>\n      <td>0</td>\n      <td>0</td>\n      <td>0</td>\n      <td>0</td>\n      <td>0</td>\n      <td>0</td>\n    </tr>\n    <tr>\n      <th>581578</th>\n      <td>0</td>\n      <td>0</td>\n      <td>0</td>\n      <td>0</td>\n      <td>0</td>\n      <td>0</td>\n      <td>0</td>\n      <td>0</td>\n      <td>0</td>\n      <td>0</td>\n      <td>...</td>\n      <td>0</td>\n      <td>0</td>\n      <td>0</td>\n      <td>0</td>\n      <td>0</td>\n      <td>0</td>\n      <td>0</td>\n      <td>0</td>\n      <td>0</td>\n      <td>0</td>\n    </tr>\n  </tbody>\n</table>\n<p>457 rows × 1695 columns</p>\n</div>"
     },
     "metadata": {},
     "execution_count": 24
    }
   ],
   "source": [
    "carrinho_compras_germany"
   ]
  },
  {
   "source": [
    "### Removendo a coluna 'POSTAGE' que representa envio e não um produto"
   ],
   "cell_type": "markdown",
   "metadata": {}
  },
  {
   "cell_type": "code",
   "execution_count": 25,
   "metadata": {},
   "outputs": [],
   "source": [
    "carrinho_compras_germany.drop(labels=['POSTAGE'], inplace=True, axis='columns')"
   ]
  },
  {
   "cell_type": "code",
   "execution_count": 26,
   "metadata": {},
   "outputs": [
    {
     "output_type": "execute_result",
     "data": {
      "text/plain": [
       "Description  10 COLOUR SPACEBOY PEN  12 COLOURED PARTY BALLOONS  \\\n",
       "InvoiceNo                                                         \n",
       "536527                            0                           0   \n",
       "536840                            0                           0   \n",
       "536861                            0                           0   \n",
       "536967                            0                           0   \n",
       "536983                            0                           0   \n",
       "...                             ...                         ...   \n",
       "581266                            0                           0   \n",
       "581494                            0                           0   \n",
       "581570                            0                           0   \n",
       "581574                            0                           0   \n",
       "581578                            0                           0   \n",
       "\n",
       "Description  12 IVORY ROSE PEG PLACE SETTINGS  \\\n",
       "InvoiceNo                                       \n",
       "536527                                      0   \n",
       "536840                                      0   \n",
       "536861                                      0   \n",
       "536967                                      0   \n",
       "536983                                      0   \n",
       "...                                       ...   \n",
       "581266                                      0   \n",
       "581494                                      0   \n",
       "581570                                      0   \n",
       "581574                                      0   \n",
       "581578                                      0   \n",
       "\n",
       "Description  12 MESSAGE CARDS WITH ENVELOPES  12 PENCIL SMALL TUBE WOODLAND  \\\n",
       "InvoiceNo                                                                     \n",
       "536527                                     0                              0   \n",
       "536840                                     0                              0   \n",
       "536861                                     0                              0   \n",
       "536967                                     0                              0   \n",
       "536983                                     0                              0   \n",
       "...                                      ...                            ...   \n",
       "581266                                     0                              0   \n",
       "581494                                     0                              0   \n",
       "581570                                     0                              0   \n",
       "581574                                     0                              0   \n",
       "581578                                     0                              0   \n",
       "\n",
       "Description  12 PENCILS SMALL TUBE RED RETROSPOT  12 PENCILS SMALL TUBE SKULL  \\\n",
       "InvoiceNo                                                                       \n",
       "536527                                         0                            0   \n",
       "536840                                         0                            0   \n",
       "536861                                         0                            0   \n",
       "536967                                         0                            0   \n",
       "536983                                         0                            0   \n",
       "...                                          ...                          ...   \n",
       "581266                                         0                            0   \n",
       "581494                                         0                            0   \n",
       "581570                                         0                            0   \n",
       "581574                                         0                            0   \n",
       "581578                                         0                            0   \n",
       "\n",
       "Description  12 PENCILS TALL TUBE POSY  12 PENCILS TALL TUBE RED RETROSPOT  \\\n",
       "InvoiceNo                                                                    \n",
       "536527                               0                                   0   \n",
       "536840                               0                                   0   \n",
       "536861                               0                                   0   \n",
       "536967                               0                                   0   \n",
       "536983                               0                                   0   \n",
       "...                                ...                                 ...   \n",
       "581266                               0                                   0   \n",
       "581494                               0                                   0   \n",
       "581570                               0                                   0   \n",
       "581574                               0                                   0   \n",
       "581578                               0                                   0   \n",
       "\n",
       "Description  12 PENCILS TALL TUBE SKULLS  ...  YULETIDE IMAGES GIFT WRAP SET  \\\n",
       "InvoiceNo                                 ...                                  \n",
       "536527                                 0  ...                              0   \n",
       "536840                                 0  ...                              0   \n",
       "536861                                 0  ...                              0   \n",
       "536967                                 0  ...                              0   \n",
       "536983                                 0  ...                              0   \n",
       "...                                  ...  ...                            ...   \n",
       "581266                                 0  ...                              0   \n",
       "581494                                 0  ...                              0   \n",
       "581570                                 0  ...                              0   \n",
       "581574                                 0  ...                              0   \n",
       "581578                                 0  ...                              0   \n",
       "\n",
       "Description  ZINC  HEART T-LIGHT HOLDER  ZINC  STAR T-LIGHT HOLDER  \\\n",
       "InvoiceNo                                                            \n",
       "536527                                0                          0   \n",
       "536840                                0                          0   \n",
       "536861                                0                          0   \n",
       "536967                                0                          0   \n",
       "536983                                0                          0   \n",
       "...                                 ...                        ...   \n",
       "581266                                0                          0   \n",
       "581494                                0                          0   \n",
       "581570                                0                          0   \n",
       "581574                                0                          0   \n",
       "581578                                0                          0   \n",
       "\n",
       "Description  ZINC BOX SIGN HOME  ZINC FOLKART SLEIGH BELLS  \\\n",
       "InvoiceNo                                                    \n",
       "536527                        0                          0   \n",
       "536840                        0                          0   \n",
       "536861                        0                          0   \n",
       "536967                        0                          0   \n",
       "536983                        0                          0   \n",
       "...                         ...                        ...   \n",
       "581266                        0                          0   \n",
       "581494                        0                          0   \n",
       "581570                        0                          0   \n",
       "581574                        0                          0   \n",
       "581578                        0                          0   \n",
       "\n",
       "Description  ZINC HEART LATTICE T-LIGHT HOLDER  ZINC METAL HEART DECORATION  \\\n",
       "InvoiceNo                                                                     \n",
       "536527                                       0                            0   \n",
       "536840                                       0                            0   \n",
       "536861                                       0                            0   \n",
       "536967                                       0                            0   \n",
       "536983                                       0                            0   \n",
       "...                                        ...                          ...   \n",
       "581266                                       0                            0   \n",
       "581494                                       0                            0   \n",
       "581570                                       0                            0   \n",
       "581574                                       0                            0   \n",
       "581578                                       0                            0   \n",
       "\n",
       "Description  ZINC T-LIGHT HOLDER STAR LARGE  ZINC T-LIGHT HOLDER STARS SMALL  \\\n",
       "InvoiceNo                                                                      \n",
       "536527                                    0                                0   \n",
       "536840                                    0                                0   \n",
       "536861                                    0                                0   \n",
       "536967                                    0                                0   \n",
       "536983                                    0                                0   \n",
       "...                                     ...                              ...   \n",
       "581266                                    0                                0   \n",
       "581494                                    0                                0   \n",
       "581570                                    0                                0   \n",
       "581574                                    0                                0   \n",
       "581578                                    0                                0   \n",
       "\n",
       "Description  ZINC WILLIE WINKIE  CANDLE STICK  \n",
       "InvoiceNo                                      \n",
       "536527                                      0  \n",
       "536840                                      0  \n",
       "536861                                      0  \n",
       "536967                                      0  \n",
       "536983                                      0  \n",
       "...                                       ...  \n",
       "581266                                      0  \n",
       "581494                                      0  \n",
       "581570                                      0  \n",
       "581574                                      0  \n",
       "581578                                      0  \n",
       "\n",
       "[457 rows x 1694 columns]"
      ],
      "text/html": "<div>\n<style scoped>\n    .dataframe tbody tr th:only-of-type {\n        vertical-align: middle;\n    }\n\n    .dataframe tbody tr th {\n        vertical-align: top;\n    }\n\n    .dataframe thead th {\n        text-align: right;\n    }\n</style>\n<table border=\"1\" class=\"dataframe\">\n  <thead>\n    <tr style=\"text-align: right;\">\n      <th>Description</th>\n      <th>10 COLOUR SPACEBOY PEN</th>\n      <th>12 COLOURED PARTY BALLOONS</th>\n      <th>12 IVORY ROSE PEG PLACE SETTINGS</th>\n      <th>12 MESSAGE CARDS WITH ENVELOPES</th>\n      <th>12 PENCIL SMALL TUBE WOODLAND</th>\n      <th>12 PENCILS SMALL TUBE RED RETROSPOT</th>\n      <th>12 PENCILS SMALL TUBE SKULL</th>\n      <th>12 PENCILS TALL TUBE POSY</th>\n      <th>12 PENCILS TALL TUBE RED RETROSPOT</th>\n      <th>12 PENCILS TALL TUBE SKULLS</th>\n      <th>...</th>\n      <th>YULETIDE IMAGES GIFT WRAP SET</th>\n      <th>ZINC  HEART T-LIGHT HOLDER</th>\n      <th>ZINC  STAR T-LIGHT HOLDER</th>\n      <th>ZINC BOX SIGN HOME</th>\n      <th>ZINC FOLKART SLEIGH BELLS</th>\n      <th>ZINC HEART LATTICE T-LIGHT HOLDER</th>\n      <th>ZINC METAL HEART DECORATION</th>\n      <th>ZINC T-LIGHT HOLDER STAR LARGE</th>\n      <th>ZINC T-LIGHT HOLDER STARS SMALL</th>\n      <th>ZINC WILLIE WINKIE  CANDLE STICK</th>\n    </tr>\n    <tr>\n      <th>InvoiceNo</th>\n      <th></th>\n      <th></th>\n      <th></th>\n      <th></th>\n      <th></th>\n      <th></th>\n      <th></th>\n      <th></th>\n      <th></th>\n      <th></th>\n      <th></th>\n      <th></th>\n      <th></th>\n      <th></th>\n      <th></th>\n      <th></th>\n      <th></th>\n      <th></th>\n      <th></th>\n      <th></th>\n      <th></th>\n    </tr>\n  </thead>\n  <tbody>\n    <tr>\n      <th>536527</th>\n      <td>0</td>\n      <td>0</td>\n      <td>0</td>\n      <td>0</td>\n      <td>0</td>\n      <td>0</td>\n      <td>0</td>\n      <td>0</td>\n      <td>0</td>\n      <td>0</td>\n      <td>...</td>\n      <td>0</td>\n      <td>0</td>\n      <td>0</td>\n      <td>0</td>\n      <td>0</td>\n      <td>0</td>\n      <td>0</td>\n      <td>0</td>\n      <td>0</td>\n      <td>0</td>\n    </tr>\n    <tr>\n      <th>536840</th>\n      <td>0</td>\n      <td>0</td>\n      <td>0</td>\n      <td>0</td>\n      <td>0</td>\n      <td>0</td>\n      <td>0</td>\n      <td>0</td>\n      <td>0</td>\n      <td>0</td>\n      <td>...</td>\n      <td>0</td>\n      <td>0</td>\n      <td>0</td>\n      <td>0</td>\n      <td>0</td>\n      <td>0</td>\n      <td>0</td>\n      <td>0</td>\n      <td>0</td>\n      <td>0</td>\n    </tr>\n    <tr>\n      <th>536861</th>\n      <td>0</td>\n      <td>0</td>\n      <td>0</td>\n      <td>0</td>\n      <td>0</td>\n      <td>0</td>\n      <td>0</td>\n      <td>0</td>\n      <td>0</td>\n      <td>0</td>\n      <td>...</td>\n      <td>0</td>\n      <td>0</td>\n      <td>0</td>\n      <td>0</td>\n      <td>0</td>\n      <td>0</td>\n      <td>0</td>\n      <td>0</td>\n      <td>0</td>\n      <td>0</td>\n    </tr>\n    <tr>\n      <th>536967</th>\n      <td>0</td>\n      <td>0</td>\n      <td>0</td>\n      <td>0</td>\n      <td>0</td>\n      <td>0</td>\n      <td>0</td>\n      <td>0</td>\n      <td>0</td>\n      <td>0</td>\n      <td>...</td>\n      <td>0</td>\n      <td>0</td>\n      <td>0</td>\n      <td>0</td>\n      <td>0</td>\n      <td>0</td>\n      <td>0</td>\n      <td>0</td>\n      <td>0</td>\n      <td>0</td>\n    </tr>\n    <tr>\n      <th>536983</th>\n      <td>0</td>\n      <td>0</td>\n      <td>0</td>\n      <td>0</td>\n      <td>0</td>\n      <td>0</td>\n      <td>0</td>\n      <td>0</td>\n      <td>0</td>\n      <td>0</td>\n      <td>...</td>\n      <td>0</td>\n      <td>0</td>\n      <td>0</td>\n      <td>0</td>\n      <td>0</td>\n      <td>0</td>\n      <td>0</td>\n      <td>0</td>\n      <td>0</td>\n      <td>0</td>\n    </tr>\n    <tr>\n      <th>...</th>\n      <td>...</td>\n      <td>...</td>\n      <td>...</td>\n      <td>...</td>\n      <td>...</td>\n      <td>...</td>\n      <td>...</td>\n      <td>...</td>\n      <td>...</td>\n      <td>...</td>\n      <td>...</td>\n      <td>...</td>\n      <td>...</td>\n      <td>...</td>\n      <td>...</td>\n      <td>...</td>\n      <td>...</td>\n      <td>...</td>\n      <td>...</td>\n      <td>...</td>\n      <td>...</td>\n    </tr>\n    <tr>\n      <th>581266</th>\n      <td>0</td>\n      <td>0</td>\n      <td>0</td>\n      <td>0</td>\n      <td>0</td>\n      <td>0</td>\n      <td>0</td>\n      <td>0</td>\n      <td>0</td>\n      <td>0</td>\n      <td>...</td>\n      <td>0</td>\n      <td>0</td>\n      <td>0</td>\n      <td>0</td>\n      <td>0</td>\n      <td>0</td>\n      <td>0</td>\n      <td>0</td>\n      <td>0</td>\n      <td>0</td>\n    </tr>\n    <tr>\n      <th>581494</th>\n      <td>0</td>\n      <td>0</td>\n      <td>0</td>\n      <td>0</td>\n      <td>0</td>\n      <td>0</td>\n      <td>0</td>\n      <td>0</td>\n      <td>0</td>\n      <td>0</td>\n      <td>...</td>\n      <td>0</td>\n      <td>0</td>\n      <td>0</td>\n      <td>0</td>\n      <td>0</td>\n      <td>0</td>\n      <td>0</td>\n      <td>0</td>\n      <td>0</td>\n      <td>0</td>\n    </tr>\n    <tr>\n      <th>581570</th>\n      <td>0</td>\n      <td>0</td>\n      <td>0</td>\n      <td>0</td>\n      <td>0</td>\n      <td>0</td>\n      <td>0</td>\n      <td>0</td>\n      <td>0</td>\n      <td>0</td>\n      <td>...</td>\n      <td>0</td>\n      <td>0</td>\n      <td>0</td>\n      <td>0</td>\n      <td>0</td>\n      <td>0</td>\n      <td>0</td>\n      <td>0</td>\n      <td>0</td>\n      <td>0</td>\n    </tr>\n    <tr>\n      <th>581574</th>\n      <td>0</td>\n      <td>0</td>\n      <td>0</td>\n      <td>0</td>\n      <td>0</td>\n      <td>0</td>\n      <td>0</td>\n      <td>0</td>\n      <td>0</td>\n      <td>0</td>\n      <td>...</td>\n      <td>0</td>\n      <td>0</td>\n      <td>0</td>\n      <td>0</td>\n      <td>0</td>\n      <td>0</td>\n      <td>0</td>\n      <td>0</td>\n      <td>0</td>\n      <td>0</td>\n    </tr>\n    <tr>\n      <th>581578</th>\n      <td>0</td>\n      <td>0</td>\n      <td>0</td>\n      <td>0</td>\n      <td>0</td>\n      <td>0</td>\n      <td>0</td>\n      <td>0</td>\n      <td>0</td>\n      <td>0</td>\n      <td>...</td>\n      <td>0</td>\n      <td>0</td>\n      <td>0</td>\n      <td>0</td>\n      <td>0</td>\n      <td>0</td>\n      <td>0</td>\n      <td>0</td>\n      <td>0</td>\n      <td>0</td>\n    </tr>\n  </tbody>\n</table>\n<p>457 rows × 1694 columns</p>\n</div>"
     },
     "metadata": {},
     "execution_count": 26
    }
   ],
   "source": [
    "carrinho_compras_germany"
   ]
  },
  {
   "source": [
    "## Algoritmo APRIORI"
   ],
   "cell_type": "markdown",
   "metadata": {}
  },
  {
   "cell_type": "code",
   "execution_count": 27,
   "metadata": {},
   "outputs": [],
   "source": [
    "itemsets_mais_frequentes_germany = apriori(carrinho_compras_germany, min_support=0.05, use_colnames=True)"
   ]
  },
  {
   "source": [
    "### Suportes para cada produto"
   ],
   "cell_type": "markdown",
   "metadata": {}
  },
  {
   "cell_type": "code",
   "execution_count": 28,
   "metadata": {},
   "outputs": [
    {
     "output_type": "execute_result",
     "data": {
      "text/plain": [
       "    support                                           itemsets\n",
       "0      0.10                           (6 RIBBONS RUSTIC CHARM)\n",
       "1      0.07                        (ALARM CLOCK BAKELIKE PINK)\n",
       "2      0.07                      (CHARLOTTE BAG APPLES DESIGN)\n",
       "3      0.05                     (CHILDRENS CUTLERY DOLLY GIRL)\n",
       "4      0.06                         (COFFEE MUG APPLES DESIGN)\n",
       "..      ...                                                ...\n",
       "54     0.07  (PLASTERS IN TIN WOODLAND ANIMALS, ROUND SNACK...\n",
       "55     0.06  (WOODLAND CHARLOTTE BAG, RED RETROSPOT CHARLOT...\n",
       "56     0.13  (ROUND SNACK BOXES SET OF 4 FRUITS, ROUND SNAC...\n",
       "57     0.07  (SPACEBOY LUNCH BOX, ROUND SNACK BOXES SET OF4...\n",
       "58     0.06  (WOODLAND CHARLOTTE BAG, ROUND SNACK BOXES SET...\n",
       "\n",
       "[59 rows x 2 columns]"
      ],
      "text/html": "<div>\n<style scoped>\n    .dataframe tbody tr th:only-of-type {\n        vertical-align: middle;\n    }\n\n    .dataframe tbody tr th {\n        vertical-align: top;\n    }\n\n    .dataframe thead th {\n        text-align: right;\n    }\n</style>\n<table border=\"1\" class=\"dataframe\">\n  <thead>\n    <tr style=\"text-align: right;\">\n      <th></th>\n      <th>support</th>\n      <th>itemsets</th>\n    </tr>\n  </thead>\n  <tbody>\n    <tr>\n      <th>0</th>\n      <td>0.10</td>\n      <td>(6 RIBBONS RUSTIC CHARM)</td>\n    </tr>\n    <tr>\n      <th>1</th>\n      <td>0.07</td>\n      <td>(ALARM CLOCK BAKELIKE PINK)</td>\n    </tr>\n    <tr>\n      <th>2</th>\n      <td>0.07</td>\n      <td>(CHARLOTTE BAG APPLES DESIGN)</td>\n    </tr>\n    <tr>\n      <th>3</th>\n      <td>0.05</td>\n      <td>(CHILDRENS CUTLERY DOLLY GIRL)</td>\n    </tr>\n    <tr>\n      <th>4</th>\n      <td>0.06</td>\n      <td>(COFFEE MUG APPLES DESIGN)</td>\n    </tr>\n    <tr>\n      <th>...</th>\n      <td>...</td>\n      <td>...</td>\n    </tr>\n    <tr>\n      <th>54</th>\n      <td>0.07</td>\n      <td>(PLASTERS IN TIN WOODLAND ANIMALS, ROUND SNACK...</td>\n    </tr>\n    <tr>\n      <th>55</th>\n      <td>0.06</td>\n      <td>(WOODLAND CHARLOTTE BAG, RED RETROSPOT CHARLOT...</td>\n    </tr>\n    <tr>\n      <th>56</th>\n      <td>0.13</td>\n      <td>(ROUND SNACK BOXES SET OF 4 FRUITS, ROUND SNAC...</td>\n    </tr>\n    <tr>\n      <th>57</th>\n      <td>0.07</td>\n      <td>(SPACEBOY LUNCH BOX, ROUND SNACK BOXES SET OF4...</td>\n    </tr>\n    <tr>\n      <th>58</th>\n      <td>0.06</td>\n      <td>(WOODLAND CHARLOTTE BAG, ROUND SNACK BOXES SET...</td>\n    </tr>\n  </tbody>\n</table>\n<p>59 rows × 2 columns</p>\n</div>"
     },
     "metadata": {},
     "execution_count": 28
    }
   ],
   "source": [
    "itemsets_mais_frequentes_germany"
   ]
  },
  {
   "source": [
    "### Ordenando de forma decrescente para pegar os itens com os maiores suportes"
   ],
   "cell_type": "markdown",
   "metadata": {}
  },
  {
   "cell_type": "code",
   "execution_count": 29,
   "metadata": {},
   "outputs": [],
   "source": [
    "itemsets_mais_frequentes_germany.sort_values(by='support', axis=0, ascending=False, inplace=True)"
   ]
  },
  {
   "source": [
    "### Dataframe ordenado com base nos maiores suportes"
   ],
   "cell_type": "markdown",
   "metadata": {}
  },
  {
   "cell_type": "code",
   "execution_count": 30,
   "metadata": {},
   "outputs": [
    {
     "output_type": "execute_result",
     "data": {
      "text/plain": [
       "    support                                           itemsets\n",
       "35     0.25               (ROUND SNACK BOXES SET OF4 WOODLAND)\n",
       "34     0.16                (ROUND SNACK BOXES SET OF 4 FRUITS)\n",
       "24     0.14                 (PLASTERS IN TIN WOODLAND ANIMALS)\n",
       "31     0.14                         (REGENCY CAKESTAND 3 TIER)\n",
       "56     0.13  (ROUND SNACK BOXES SET OF 4 FRUITS, ROUND SNAC...\n",
       "..      ...                                                ...\n",
       "17     0.05                              (MINT KITCHEN SCALES)\n",
       "25     0.05                               (RABBIT NIGHT LIGHT)\n",
       "51     0.05  (ROUND SNACK BOXES SET OF 4 FRUITS, PLASTERS I...\n",
       "36     0.05                   (SET 2 PANTRY DESIGN TEA TOWELS)\n",
       "3      0.05                     (CHILDRENS CUTLERY DOLLY GIRL)\n",
       "\n",
       "[59 rows x 2 columns]"
      ],
      "text/html": "<div>\n<style scoped>\n    .dataframe tbody tr th:only-of-type {\n        vertical-align: middle;\n    }\n\n    .dataframe tbody tr th {\n        vertical-align: top;\n    }\n\n    .dataframe thead th {\n        text-align: right;\n    }\n</style>\n<table border=\"1\" class=\"dataframe\">\n  <thead>\n    <tr style=\"text-align: right;\">\n      <th></th>\n      <th>support</th>\n      <th>itemsets</th>\n    </tr>\n  </thead>\n  <tbody>\n    <tr>\n      <th>35</th>\n      <td>0.25</td>\n      <td>(ROUND SNACK BOXES SET OF4 WOODLAND)</td>\n    </tr>\n    <tr>\n      <th>34</th>\n      <td>0.16</td>\n      <td>(ROUND SNACK BOXES SET OF 4 FRUITS)</td>\n    </tr>\n    <tr>\n      <th>24</th>\n      <td>0.14</td>\n      <td>(PLASTERS IN TIN WOODLAND ANIMALS)</td>\n    </tr>\n    <tr>\n      <th>31</th>\n      <td>0.14</td>\n      <td>(REGENCY CAKESTAND 3 TIER)</td>\n    </tr>\n    <tr>\n      <th>56</th>\n      <td>0.13</td>\n      <td>(ROUND SNACK BOXES SET OF 4 FRUITS, ROUND SNAC...</td>\n    </tr>\n    <tr>\n      <th>...</th>\n      <td>...</td>\n      <td>...</td>\n    </tr>\n    <tr>\n      <th>17</th>\n      <td>0.05</td>\n      <td>(MINT KITCHEN SCALES)</td>\n    </tr>\n    <tr>\n      <th>25</th>\n      <td>0.05</td>\n      <td>(RABBIT NIGHT LIGHT)</td>\n    </tr>\n    <tr>\n      <th>51</th>\n      <td>0.05</td>\n      <td>(ROUND SNACK BOXES SET OF 4 FRUITS, PLASTERS I...</td>\n    </tr>\n    <tr>\n      <th>36</th>\n      <td>0.05</td>\n      <td>(SET 2 PANTRY DESIGN TEA TOWELS)</td>\n    </tr>\n    <tr>\n      <th>3</th>\n      <td>0.05</td>\n      <td>(CHILDRENS CUTLERY DOLLY GIRL)</td>\n    </tr>\n  </tbody>\n</table>\n<p>59 rows × 2 columns</p>\n</div>"
     },
     "metadata": {},
     "execution_count": 30
    }
   ],
   "source": [
    "itemsets_mais_frequentes_germany"
   ]
  },
  {
   "source": [
    "### Top 10 itens com maiores suportes individuais"
   ],
   "cell_type": "markdown",
   "metadata": {}
  },
  {
   "cell_type": "code",
   "execution_count": 31,
   "metadata": {},
   "outputs": [
    {
     "output_type": "execute_result",
     "data": {
      "text/plain": [
       "    support                                           itemsets\n",
       "35     0.25               (ROUND SNACK BOXES SET OF4 WOODLAND)\n",
       "34     0.16                (ROUND SNACK BOXES SET OF 4 FRUITS)\n",
       "24     0.14                 (PLASTERS IN TIN WOODLAND ANIMALS)\n",
       "31     0.14                         (REGENCY CAKESTAND 3 TIER)\n",
       "56     0.13  (ROUND SNACK BOXES SET OF 4 FRUITS, ROUND SNAC...\n",
       "48     0.13                           (WOODLAND CHARLOTTE BAG)\n",
       "21     0.12                    (PLASTERS IN TIN CIRCUS PARADE)\n",
       "22     0.11                         (PLASTERS IN TIN SPACEBOY)\n",
       "0      0.10                           (6 RIBBONS RUSTIC CHARM)\n",
       "44     0.10                               (SPACEBOY LUNCH BOX)"
      ],
      "text/html": "<div>\n<style scoped>\n    .dataframe tbody tr th:only-of-type {\n        vertical-align: middle;\n    }\n\n    .dataframe tbody tr th {\n        vertical-align: top;\n    }\n\n    .dataframe thead th {\n        text-align: right;\n    }\n</style>\n<table border=\"1\" class=\"dataframe\">\n  <thead>\n    <tr style=\"text-align: right;\">\n      <th></th>\n      <th>support</th>\n      <th>itemsets</th>\n    </tr>\n  </thead>\n  <tbody>\n    <tr>\n      <th>35</th>\n      <td>0.25</td>\n      <td>(ROUND SNACK BOXES SET OF4 WOODLAND)</td>\n    </tr>\n    <tr>\n      <th>34</th>\n      <td>0.16</td>\n      <td>(ROUND SNACK BOXES SET OF 4 FRUITS)</td>\n    </tr>\n    <tr>\n      <th>24</th>\n      <td>0.14</td>\n      <td>(PLASTERS IN TIN WOODLAND ANIMALS)</td>\n    </tr>\n    <tr>\n      <th>31</th>\n      <td>0.14</td>\n      <td>(REGENCY CAKESTAND 3 TIER)</td>\n    </tr>\n    <tr>\n      <th>56</th>\n      <td>0.13</td>\n      <td>(ROUND SNACK BOXES SET OF 4 FRUITS, ROUND SNAC...</td>\n    </tr>\n    <tr>\n      <th>48</th>\n      <td>0.13</td>\n      <td>(WOODLAND CHARLOTTE BAG)</td>\n    </tr>\n    <tr>\n      <th>21</th>\n      <td>0.12</td>\n      <td>(PLASTERS IN TIN CIRCUS PARADE)</td>\n    </tr>\n    <tr>\n      <th>22</th>\n      <td>0.11</td>\n      <td>(PLASTERS IN TIN SPACEBOY)</td>\n    </tr>\n    <tr>\n      <th>0</th>\n      <td>0.10</td>\n      <td>(6 RIBBONS RUSTIC CHARM)</td>\n    </tr>\n    <tr>\n      <th>44</th>\n      <td>0.10</td>\n      <td>(SPACEBOY LUNCH BOX)</td>\n    </tr>\n  </tbody>\n</table>\n</div>"
     },
     "metadata": {},
     "execution_count": 31
    }
   ],
   "source": [
    "itemsets_mais_frequentes_germany.iloc[0:10]"
   ]
  },
  {
   "source": [
    "## Regras de associação"
   ],
   "cell_type": "markdown",
   "metadata": {}
  },
  {
   "cell_type": "code",
   "execution_count": 32,
   "metadata": {},
   "outputs": [],
   "source": [
    "regras_associacao_germany = association_rules(itemsets_mais_frequentes_germany, metric='support', min_threshold=0.05)"
   ]
  },
  {
   "cell_type": "code",
   "execution_count": 33,
   "metadata": {},
   "outputs": [
    {
     "output_type": "execute_result",
     "data": {
      "text/plain": [
       "                             antecedents  \\\n",
       "0    (ROUND SNACK BOXES SET OF 4 FRUITS)   \n",
       "1   (ROUND SNACK BOXES SET OF4 WOODLAND)   \n",
       "2     (PLASTERS IN TIN WOODLAND ANIMALS)   \n",
       "3   (ROUND SNACK BOXES SET OF4 WOODLAND)   \n",
       "4                   (SPACEBOY LUNCH BOX)   \n",
       "..                                   ...   \n",
       "13         (RED RETROSPOT CHARLOTTE BAG)   \n",
       "14  (ROUND SNACK BOXES SET OF4 WOODLAND)   \n",
       "15       (PLASTERS IN TIN CIRCUS PARADE)   \n",
       "16   (ROUND SNACK BOXES SET OF 4 FRUITS)   \n",
       "17       (PLASTERS IN TIN CIRCUS PARADE)   \n",
       "\n",
       "                             consequents  antecedent support  \\\n",
       "0   (ROUND SNACK BOXES SET OF4 WOODLAND)                0.16   \n",
       "1    (ROUND SNACK BOXES SET OF 4 FRUITS)                0.25   \n",
       "2   (ROUND SNACK BOXES SET OF4 WOODLAND)                0.14   \n",
       "3     (PLASTERS IN TIN WOODLAND ANIMALS)                0.25   \n",
       "4   (ROUND SNACK BOXES SET OF4 WOODLAND)                0.10   \n",
       "..                                   ...                 ...   \n",
       "13              (WOODLAND CHARLOTTE BAG)                0.07   \n",
       "14       (PLASTERS IN TIN CIRCUS PARADE)                0.25   \n",
       "15  (ROUND SNACK BOXES SET OF4 WOODLAND)                0.12   \n",
       "16       (PLASTERS IN TIN CIRCUS PARADE)                0.16   \n",
       "17   (ROUND SNACK BOXES SET OF 4 FRUITS)                0.12   \n",
       "\n",
       "    consequent support  support  confidence  lift  leverage  conviction  \n",
       "0                 0.25     0.13        0.83  3.40      0.09        4.53  \n",
       "1                 0.16     0.13        0.54  3.40      0.09        1.81  \n",
       "2                 0.25     0.07        0.54  2.20      0.04        1.64  \n",
       "3                 0.14     0.07        0.30  2.20      0.04        1.24  \n",
       "4                 0.25     0.07        0.68  2.78      0.04        2.37  \n",
       "..                 ...      ...         ...   ...       ...         ...  \n",
       "13                0.13     0.06        0.84  6.65      0.05        5.59  \n",
       "14                0.12     0.06        0.23  2.00      0.03        1.15  \n",
       "15                0.25     0.06        0.49  2.00      0.03        1.48  \n",
       "16                0.12     0.05        0.32  2.75      0.03        1.30  \n",
       "17                0.16     0.05        0.43  2.75      0.03        1.49  \n",
       "\n",
       "[18 rows x 9 columns]"
      ],
      "text/html": "<div>\n<style scoped>\n    .dataframe tbody tr th:only-of-type {\n        vertical-align: middle;\n    }\n\n    .dataframe tbody tr th {\n        vertical-align: top;\n    }\n\n    .dataframe thead th {\n        text-align: right;\n    }\n</style>\n<table border=\"1\" class=\"dataframe\">\n  <thead>\n    <tr style=\"text-align: right;\">\n      <th></th>\n      <th>antecedents</th>\n      <th>consequents</th>\n      <th>antecedent support</th>\n      <th>consequent support</th>\n      <th>support</th>\n      <th>confidence</th>\n      <th>lift</th>\n      <th>leverage</th>\n      <th>conviction</th>\n    </tr>\n  </thead>\n  <tbody>\n    <tr>\n      <th>0</th>\n      <td>(ROUND SNACK BOXES SET OF 4 FRUITS)</td>\n      <td>(ROUND SNACK BOXES SET OF4 WOODLAND)</td>\n      <td>0.16</td>\n      <td>0.25</td>\n      <td>0.13</td>\n      <td>0.83</td>\n      <td>3.40</td>\n      <td>0.09</td>\n      <td>4.53</td>\n    </tr>\n    <tr>\n      <th>1</th>\n      <td>(ROUND SNACK BOXES SET OF4 WOODLAND)</td>\n      <td>(ROUND SNACK BOXES SET OF 4 FRUITS)</td>\n      <td>0.25</td>\n      <td>0.16</td>\n      <td>0.13</td>\n      <td>0.54</td>\n      <td>3.40</td>\n      <td>0.09</td>\n      <td>1.81</td>\n    </tr>\n    <tr>\n      <th>2</th>\n      <td>(PLASTERS IN TIN WOODLAND ANIMALS)</td>\n      <td>(ROUND SNACK BOXES SET OF4 WOODLAND)</td>\n      <td>0.14</td>\n      <td>0.25</td>\n      <td>0.07</td>\n      <td>0.54</td>\n      <td>2.20</td>\n      <td>0.04</td>\n      <td>1.64</td>\n    </tr>\n    <tr>\n      <th>3</th>\n      <td>(ROUND SNACK BOXES SET OF4 WOODLAND)</td>\n      <td>(PLASTERS IN TIN WOODLAND ANIMALS)</td>\n      <td>0.25</td>\n      <td>0.14</td>\n      <td>0.07</td>\n      <td>0.30</td>\n      <td>2.20</td>\n      <td>0.04</td>\n      <td>1.24</td>\n    </tr>\n    <tr>\n      <th>4</th>\n      <td>(SPACEBOY LUNCH BOX)</td>\n      <td>(ROUND SNACK BOXES SET OF4 WOODLAND)</td>\n      <td>0.10</td>\n      <td>0.25</td>\n      <td>0.07</td>\n      <td>0.68</td>\n      <td>2.78</td>\n      <td>0.04</td>\n      <td>2.37</td>\n    </tr>\n    <tr>\n      <th>...</th>\n      <td>...</td>\n      <td>...</td>\n      <td>...</td>\n      <td>...</td>\n      <td>...</td>\n      <td>...</td>\n      <td>...</td>\n      <td>...</td>\n      <td>...</td>\n    </tr>\n    <tr>\n      <th>13</th>\n      <td>(RED RETROSPOT CHARLOTTE BAG)</td>\n      <td>(WOODLAND CHARLOTTE BAG)</td>\n      <td>0.07</td>\n      <td>0.13</td>\n      <td>0.06</td>\n      <td>0.84</td>\n      <td>6.65</td>\n      <td>0.05</td>\n      <td>5.59</td>\n    </tr>\n    <tr>\n      <th>14</th>\n      <td>(ROUND SNACK BOXES SET OF4 WOODLAND)</td>\n      <td>(PLASTERS IN TIN CIRCUS PARADE)</td>\n      <td>0.25</td>\n      <td>0.12</td>\n      <td>0.06</td>\n      <td>0.23</td>\n      <td>2.00</td>\n      <td>0.03</td>\n      <td>1.15</td>\n    </tr>\n    <tr>\n      <th>15</th>\n      <td>(PLASTERS IN TIN CIRCUS PARADE)</td>\n      <td>(ROUND SNACK BOXES SET OF4 WOODLAND)</td>\n      <td>0.12</td>\n      <td>0.25</td>\n      <td>0.06</td>\n      <td>0.49</td>\n      <td>2.00</td>\n      <td>0.03</td>\n      <td>1.48</td>\n    </tr>\n    <tr>\n      <th>16</th>\n      <td>(ROUND SNACK BOXES SET OF 4 FRUITS)</td>\n      <td>(PLASTERS IN TIN CIRCUS PARADE)</td>\n      <td>0.16</td>\n      <td>0.12</td>\n      <td>0.05</td>\n      <td>0.32</td>\n      <td>2.75</td>\n      <td>0.03</td>\n      <td>1.30</td>\n    </tr>\n    <tr>\n      <th>17</th>\n      <td>(PLASTERS IN TIN CIRCUS PARADE)</td>\n      <td>(ROUND SNACK BOXES SET OF 4 FRUITS)</td>\n      <td>0.12</td>\n      <td>0.16</td>\n      <td>0.05</td>\n      <td>0.43</td>\n      <td>2.75</td>\n      <td>0.03</td>\n      <td>1.49</td>\n    </tr>\n  </tbody>\n</table>\n<p>18 rows × 9 columns</p>\n</div>"
     },
     "metadata": {},
     "execution_count": 33
    }
   ],
   "source": [
    "regras_associacao_germany"
   ]
  },
  {
   "source": [
    "### Top 10 - Regras de associação com maiores 'suportes'"
   ],
   "cell_type": "markdown",
   "metadata": {}
  },
  {
   "cell_type": "code",
   "execution_count": 34,
   "metadata": {},
   "outputs": [
    {
     "output_type": "execute_result",
     "data": {
      "text/plain": [
       "                            antecedents                           consequents  \\\n",
       "0   (ROUND SNACK BOXES SET OF 4 FRUITS)  (ROUND SNACK BOXES SET OF4 WOODLAND)   \n",
       "1  (ROUND SNACK BOXES SET OF4 WOODLAND)   (ROUND SNACK BOXES SET OF 4 FRUITS)   \n",
       "2    (PLASTERS IN TIN WOODLAND ANIMALS)  (ROUND SNACK BOXES SET OF4 WOODLAND)   \n",
       "3  (ROUND SNACK BOXES SET OF4 WOODLAND)    (PLASTERS IN TIN WOODLAND ANIMALS)   \n",
       "4                  (SPACEBOY LUNCH BOX)  (ROUND SNACK BOXES SET OF4 WOODLAND)   \n",
       "5  (ROUND SNACK BOXES SET OF4 WOODLAND)                  (SPACEBOY LUNCH BOX)   \n",
       "6    (PLASTERS IN TIN WOODLAND ANIMALS)       (PLASTERS IN TIN CIRCUS PARADE)   \n",
       "7       (PLASTERS IN TIN CIRCUS PARADE)    (PLASTERS IN TIN WOODLAND ANIMALS)   \n",
       "8              (WOODLAND CHARLOTTE BAG)  (ROUND SNACK BOXES SET OF4 WOODLAND)   \n",
       "9  (ROUND SNACK BOXES SET OF4 WOODLAND)              (WOODLAND CHARLOTTE BAG)   \n",
       "\n",
       "   antecedent support  consequent support  support  confidence  lift  \\\n",
       "0                0.16                0.25     0.13        0.83  3.40   \n",
       "1                0.25                0.16     0.13        0.54  3.40   \n",
       "2                0.14                0.25     0.07        0.54  2.20   \n",
       "3                0.25                0.14     0.07        0.30  2.20   \n",
       "4                0.10                0.25     0.07        0.68  2.78   \n",
       "5                0.25                0.10     0.07        0.29  2.78   \n",
       "6                0.14                0.12     0.07        0.49  4.24   \n",
       "7                0.12                0.14     0.07        0.58  4.24   \n",
       "8                0.13                0.25     0.06        0.50  2.04   \n",
       "9                0.25                0.13     0.06        0.26  2.04   \n",
       "\n",
       "   leverage  conviction  \n",
       "0      0.09        4.53  \n",
       "1      0.09        1.81  \n",
       "2      0.04        1.64  \n",
       "3      0.04        1.24  \n",
       "4      0.04        2.37  \n",
       "5      0.04        1.26  \n",
       "6      0.05        1.74  \n",
       "7      0.05        2.08  \n",
       "8      0.03        1.51  \n",
       "9      0.03        1.18  "
      ],
      "text/html": "<div>\n<style scoped>\n    .dataframe tbody tr th:only-of-type {\n        vertical-align: middle;\n    }\n\n    .dataframe tbody tr th {\n        vertical-align: top;\n    }\n\n    .dataframe thead th {\n        text-align: right;\n    }\n</style>\n<table border=\"1\" class=\"dataframe\">\n  <thead>\n    <tr style=\"text-align: right;\">\n      <th></th>\n      <th>antecedents</th>\n      <th>consequents</th>\n      <th>antecedent support</th>\n      <th>consequent support</th>\n      <th>support</th>\n      <th>confidence</th>\n      <th>lift</th>\n      <th>leverage</th>\n      <th>conviction</th>\n    </tr>\n  </thead>\n  <tbody>\n    <tr>\n      <th>0</th>\n      <td>(ROUND SNACK BOXES SET OF 4 FRUITS)</td>\n      <td>(ROUND SNACK BOXES SET OF4 WOODLAND)</td>\n      <td>0.16</td>\n      <td>0.25</td>\n      <td>0.13</td>\n      <td>0.83</td>\n      <td>3.40</td>\n      <td>0.09</td>\n      <td>4.53</td>\n    </tr>\n    <tr>\n      <th>1</th>\n      <td>(ROUND SNACK BOXES SET OF4 WOODLAND)</td>\n      <td>(ROUND SNACK BOXES SET OF 4 FRUITS)</td>\n      <td>0.25</td>\n      <td>0.16</td>\n      <td>0.13</td>\n      <td>0.54</td>\n      <td>3.40</td>\n      <td>0.09</td>\n      <td>1.81</td>\n    </tr>\n    <tr>\n      <th>2</th>\n      <td>(PLASTERS IN TIN WOODLAND ANIMALS)</td>\n      <td>(ROUND SNACK BOXES SET OF4 WOODLAND)</td>\n      <td>0.14</td>\n      <td>0.25</td>\n      <td>0.07</td>\n      <td>0.54</td>\n      <td>2.20</td>\n      <td>0.04</td>\n      <td>1.64</td>\n    </tr>\n    <tr>\n      <th>3</th>\n      <td>(ROUND SNACK BOXES SET OF4 WOODLAND)</td>\n      <td>(PLASTERS IN TIN WOODLAND ANIMALS)</td>\n      <td>0.25</td>\n      <td>0.14</td>\n      <td>0.07</td>\n      <td>0.30</td>\n      <td>2.20</td>\n      <td>0.04</td>\n      <td>1.24</td>\n    </tr>\n    <tr>\n      <th>4</th>\n      <td>(SPACEBOY LUNCH BOX)</td>\n      <td>(ROUND SNACK BOXES SET OF4 WOODLAND)</td>\n      <td>0.10</td>\n      <td>0.25</td>\n      <td>0.07</td>\n      <td>0.68</td>\n      <td>2.78</td>\n      <td>0.04</td>\n      <td>2.37</td>\n    </tr>\n    <tr>\n      <th>5</th>\n      <td>(ROUND SNACK BOXES SET OF4 WOODLAND)</td>\n      <td>(SPACEBOY LUNCH BOX)</td>\n      <td>0.25</td>\n      <td>0.10</td>\n      <td>0.07</td>\n      <td>0.29</td>\n      <td>2.78</td>\n      <td>0.04</td>\n      <td>1.26</td>\n    </tr>\n    <tr>\n      <th>6</th>\n      <td>(PLASTERS IN TIN WOODLAND ANIMALS)</td>\n      <td>(PLASTERS IN TIN CIRCUS PARADE)</td>\n      <td>0.14</td>\n      <td>0.12</td>\n      <td>0.07</td>\n      <td>0.49</td>\n      <td>4.24</td>\n      <td>0.05</td>\n      <td>1.74</td>\n    </tr>\n    <tr>\n      <th>7</th>\n      <td>(PLASTERS IN TIN CIRCUS PARADE)</td>\n      <td>(PLASTERS IN TIN WOODLAND ANIMALS)</td>\n      <td>0.12</td>\n      <td>0.14</td>\n      <td>0.07</td>\n      <td>0.58</td>\n      <td>4.24</td>\n      <td>0.05</td>\n      <td>2.08</td>\n    </tr>\n    <tr>\n      <th>8</th>\n      <td>(WOODLAND CHARLOTTE BAG)</td>\n      <td>(ROUND SNACK BOXES SET OF4 WOODLAND)</td>\n      <td>0.13</td>\n      <td>0.25</td>\n      <td>0.06</td>\n      <td>0.50</td>\n      <td>2.04</td>\n      <td>0.03</td>\n      <td>1.51</td>\n    </tr>\n    <tr>\n      <th>9</th>\n      <td>(ROUND SNACK BOXES SET OF4 WOODLAND)</td>\n      <td>(WOODLAND CHARLOTTE BAG)</td>\n      <td>0.25</td>\n      <td>0.13</td>\n      <td>0.06</td>\n      <td>0.26</td>\n      <td>2.04</td>\n      <td>0.03</td>\n      <td>1.18</td>\n    </tr>\n  </tbody>\n</table>\n</div>"
     },
     "metadata": {},
     "execution_count": 34
    }
   ],
   "source": [
    "regras_associacao_germany.iloc[0:10]"
   ]
  },
  {
   "source": [
    "### Top 10 - Regras de associação com maiores 'confianças'"
   ],
   "cell_type": "markdown",
   "metadata": {}
  },
  {
   "cell_type": "code",
   "execution_count": 35,
   "metadata": {},
   "outputs": [
    {
     "output_type": "execute_result",
     "data": {
      "text/plain": [
       "                             antecedents  \\\n",
       "13         (RED RETROSPOT CHARLOTTE BAG)   \n",
       "0    (ROUND SNACK BOXES SET OF 4 FRUITS)   \n",
       "4                   (SPACEBOY LUNCH BOX)   \n",
       "7        (PLASTERS IN TIN CIRCUS PARADE)   \n",
       "11            (PLASTERS IN TIN SPACEBOY)   \n",
       "2     (PLASTERS IN TIN WOODLAND ANIMALS)   \n",
       "1   (ROUND SNACK BOXES SET OF4 WOODLAND)   \n",
       "8               (WOODLAND CHARLOTTE BAG)   \n",
       "6     (PLASTERS IN TIN WOODLAND ANIMALS)   \n",
       "15       (PLASTERS IN TIN CIRCUS PARADE)   \n",
       "\n",
       "                             consequents  antecedent support  \\\n",
       "13              (WOODLAND CHARLOTTE BAG)                0.07   \n",
       "0   (ROUND SNACK BOXES SET OF4 WOODLAND)                0.16   \n",
       "4   (ROUND SNACK BOXES SET OF4 WOODLAND)                0.10   \n",
       "7     (PLASTERS IN TIN WOODLAND ANIMALS)                0.12   \n",
       "11    (PLASTERS IN TIN WOODLAND ANIMALS)                0.11   \n",
       "2   (ROUND SNACK BOXES SET OF4 WOODLAND)                0.14   \n",
       "1    (ROUND SNACK BOXES SET OF 4 FRUITS)                0.25   \n",
       "8   (ROUND SNACK BOXES SET OF4 WOODLAND)                0.13   \n",
       "6        (PLASTERS IN TIN CIRCUS PARADE)                0.14   \n",
       "15  (ROUND SNACK BOXES SET OF4 WOODLAND)                0.12   \n",
       "\n",
       "    consequent support  support  confidence  lift  leverage  conviction  \n",
       "13                0.13     0.06        0.84  6.65      0.05        5.59  \n",
       "0                 0.25     0.13        0.83  3.40      0.09        4.53  \n",
       "4                 0.25     0.07        0.68  2.78      0.04        2.37  \n",
       "7                 0.14     0.07        0.58  4.24      0.05        2.08  \n",
       "11                0.14     0.06        0.57  4.15      0.05        2.01  \n",
       "2                 0.25     0.07        0.54  2.20      0.04        1.64  \n",
       "1                 0.16     0.13        0.54  3.40      0.09        1.81  \n",
       "8                 0.25     0.06        0.50  2.04      0.03        1.51  \n",
       "6                 0.12     0.07        0.49  4.24      0.05        1.74  \n",
       "15                0.25     0.06        0.49  2.00      0.03        1.48  "
      ],
      "text/html": "<div>\n<style scoped>\n    .dataframe tbody tr th:only-of-type {\n        vertical-align: middle;\n    }\n\n    .dataframe tbody tr th {\n        vertical-align: top;\n    }\n\n    .dataframe thead th {\n        text-align: right;\n    }\n</style>\n<table border=\"1\" class=\"dataframe\">\n  <thead>\n    <tr style=\"text-align: right;\">\n      <th></th>\n      <th>antecedents</th>\n      <th>consequents</th>\n      <th>antecedent support</th>\n      <th>consequent support</th>\n      <th>support</th>\n      <th>confidence</th>\n      <th>lift</th>\n      <th>leverage</th>\n      <th>conviction</th>\n    </tr>\n  </thead>\n  <tbody>\n    <tr>\n      <th>13</th>\n      <td>(RED RETROSPOT CHARLOTTE BAG)</td>\n      <td>(WOODLAND CHARLOTTE BAG)</td>\n      <td>0.07</td>\n      <td>0.13</td>\n      <td>0.06</td>\n      <td>0.84</td>\n      <td>6.65</td>\n      <td>0.05</td>\n      <td>5.59</td>\n    </tr>\n    <tr>\n      <th>0</th>\n      <td>(ROUND SNACK BOXES SET OF 4 FRUITS)</td>\n      <td>(ROUND SNACK BOXES SET OF4 WOODLAND)</td>\n      <td>0.16</td>\n      <td>0.25</td>\n      <td>0.13</td>\n      <td>0.83</td>\n      <td>3.40</td>\n      <td>0.09</td>\n      <td>4.53</td>\n    </tr>\n    <tr>\n      <th>4</th>\n      <td>(SPACEBOY LUNCH BOX)</td>\n      <td>(ROUND SNACK BOXES SET OF4 WOODLAND)</td>\n      <td>0.10</td>\n      <td>0.25</td>\n      <td>0.07</td>\n      <td>0.68</td>\n      <td>2.78</td>\n      <td>0.04</td>\n      <td>2.37</td>\n    </tr>\n    <tr>\n      <th>7</th>\n      <td>(PLASTERS IN TIN CIRCUS PARADE)</td>\n      <td>(PLASTERS IN TIN WOODLAND ANIMALS)</td>\n      <td>0.12</td>\n      <td>0.14</td>\n      <td>0.07</td>\n      <td>0.58</td>\n      <td>4.24</td>\n      <td>0.05</td>\n      <td>2.08</td>\n    </tr>\n    <tr>\n      <th>11</th>\n      <td>(PLASTERS IN TIN SPACEBOY)</td>\n      <td>(PLASTERS IN TIN WOODLAND ANIMALS)</td>\n      <td>0.11</td>\n      <td>0.14</td>\n      <td>0.06</td>\n      <td>0.57</td>\n      <td>4.15</td>\n      <td>0.05</td>\n      <td>2.01</td>\n    </tr>\n    <tr>\n      <th>2</th>\n      <td>(PLASTERS IN TIN WOODLAND ANIMALS)</td>\n      <td>(ROUND SNACK BOXES SET OF4 WOODLAND)</td>\n      <td>0.14</td>\n      <td>0.25</td>\n      <td>0.07</td>\n      <td>0.54</td>\n      <td>2.20</td>\n      <td>0.04</td>\n      <td>1.64</td>\n    </tr>\n    <tr>\n      <th>1</th>\n      <td>(ROUND SNACK BOXES SET OF4 WOODLAND)</td>\n      <td>(ROUND SNACK BOXES SET OF 4 FRUITS)</td>\n      <td>0.25</td>\n      <td>0.16</td>\n      <td>0.13</td>\n      <td>0.54</td>\n      <td>3.40</td>\n      <td>0.09</td>\n      <td>1.81</td>\n    </tr>\n    <tr>\n      <th>8</th>\n      <td>(WOODLAND CHARLOTTE BAG)</td>\n      <td>(ROUND SNACK BOXES SET OF4 WOODLAND)</td>\n      <td>0.13</td>\n      <td>0.25</td>\n      <td>0.06</td>\n      <td>0.50</td>\n      <td>2.04</td>\n      <td>0.03</td>\n      <td>1.51</td>\n    </tr>\n    <tr>\n      <th>6</th>\n      <td>(PLASTERS IN TIN WOODLAND ANIMALS)</td>\n      <td>(PLASTERS IN TIN CIRCUS PARADE)</td>\n      <td>0.14</td>\n      <td>0.12</td>\n      <td>0.07</td>\n      <td>0.49</td>\n      <td>4.24</td>\n      <td>0.05</td>\n      <td>1.74</td>\n    </tr>\n    <tr>\n      <th>15</th>\n      <td>(PLASTERS IN TIN CIRCUS PARADE)</td>\n      <td>(ROUND SNACK BOXES SET OF4 WOODLAND)</td>\n      <td>0.12</td>\n      <td>0.25</td>\n      <td>0.06</td>\n      <td>0.49</td>\n      <td>2.00</td>\n      <td>0.03</td>\n      <td>1.48</td>\n    </tr>\n  </tbody>\n</table>\n</div>"
     },
     "metadata": {},
     "execution_count": 35
    }
   ],
   "source": [
    "regras_associacao_germany.sort_values(by='confidence', axis=0, ascending=False, inplace=True)\n",
    "regras_associacao_germany.iloc[0:10]"
   ]
  },
  {
   "source": [
    "### Top 10 - Regras de associação com maiores 'lifts'\n",
    "<br/>\n",
    "Lift significa o quão influente uma transação A é em uma transação B, ou seja, comprando A aumenta ou diminui a probabilidade de alguém comprar B.\n",
    "<br/>\n",
    "(Lift >= 1 indica relação positiva, e Lift < 1 negativa)"
   ],
   "cell_type": "markdown",
   "metadata": {}
  },
  {
   "cell_type": "code",
   "execution_count": 36,
   "metadata": {},
   "outputs": [
    {
     "output_type": "execute_result",
     "data": {
      "text/plain": [
       "                             antecedents  \\\n",
       "13         (RED RETROSPOT CHARLOTTE BAG)   \n",
       "12              (WOODLAND CHARLOTTE BAG)   \n",
       "7        (PLASTERS IN TIN CIRCUS PARADE)   \n",
       "6     (PLASTERS IN TIN WOODLAND ANIMALS)   \n",
       "11            (PLASTERS IN TIN SPACEBOY)   \n",
       "10    (PLASTERS IN TIN WOODLAND ANIMALS)   \n",
       "0    (ROUND SNACK BOXES SET OF 4 FRUITS)   \n",
       "1   (ROUND SNACK BOXES SET OF4 WOODLAND)   \n",
       "4                   (SPACEBOY LUNCH BOX)   \n",
       "5   (ROUND SNACK BOXES SET OF4 WOODLAND)   \n",
       "\n",
       "                             consequents  antecedent support  \\\n",
       "13              (WOODLAND CHARLOTTE BAG)                0.07   \n",
       "12         (RED RETROSPOT CHARLOTTE BAG)                0.13   \n",
       "7     (PLASTERS IN TIN WOODLAND ANIMALS)                0.12   \n",
       "6        (PLASTERS IN TIN CIRCUS PARADE)                0.14   \n",
       "11    (PLASTERS IN TIN WOODLAND ANIMALS)                0.11   \n",
       "10            (PLASTERS IN TIN SPACEBOY)                0.14   \n",
       "0   (ROUND SNACK BOXES SET OF4 WOODLAND)                0.16   \n",
       "1    (ROUND SNACK BOXES SET OF 4 FRUITS)                0.25   \n",
       "4   (ROUND SNACK BOXES SET OF4 WOODLAND)                0.10   \n",
       "5                   (SPACEBOY LUNCH BOX)                0.25   \n",
       "\n",
       "    consequent support  support  confidence  lift  leverage  conviction  \n",
       "13                0.13     0.06        0.84  6.65      0.05        5.59  \n",
       "12                0.07     0.06        0.47  6.65      0.05        1.74  \n",
       "7                 0.14     0.07        0.58  4.24      0.05        2.08  \n",
       "6                 0.12     0.07        0.49  4.24      0.05        1.74  \n",
       "11                0.14     0.06        0.57  4.15      0.05        2.01  \n",
       "10                0.11     0.06        0.44  4.15      0.05        1.61  \n",
       "0                 0.25     0.13        0.83  3.40      0.09        4.53  \n",
       "1                 0.16     0.13        0.54  3.40      0.09        1.81  \n",
       "4                 0.25     0.07        0.68  2.78      0.04        2.37  \n",
       "5                 0.10     0.07        0.29  2.78      0.04        1.26  "
      ],
      "text/html": "<div>\n<style scoped>\n    .dataframe tbody tr th:only-of-type {\n        vertical-align: middle;\n    }\n\n    .dataframe tbody tr th {\n        vertical-align: top;\n    }\n\n    .dataframe thead th {\n        text-align: right;\n    }\n</style>\n<table border=\"1\" class=\"dataframe\">\n  <thead>\n    <tr style=\"text-align: right;\">\n      <th></th>\n      <th>antecedents</th>\n      <th>consequents</th>\n      <th>antecedent support</th>\n      <th>consequent support</th>\n      <th>support</th>\n      <th>confidence</th>\n      <th>lift</th>\n      <th>leverage</th>\n      <th>conviction</th>\n    </tr>\n  </thead>\n  <tbody>\n    <tr>\n      <th>13</th>\n      <td>(RED RETROSPOT CHARLOTTE BAG)</td>\n      <td>(WOODLAND CHARLOTTE BAG)</td>\n      <td>0.07</td>\n      <td>0.13</td>\n      <td>0.06</td>\n      <td>0.84</td>\n      <td>6.65</td>\n      <td>0.05</td>\n      <td>5.59</td>\n    </tr>\n    <tr>\n      <th>12</th>\n      <td>(WOODLAND CHARLOTTE BAG)</td>\n      <td>(RED RETROSPOT CHARLOTTE BAG)</td>\n      <td>0.13</td>\n      <td>0.07</td>\n      <td>0.06</td>\n      <td>0.47</td>\n      <td>6.65</td>\n      <td>0.05</td>\n      <td>1.74</td>\n    </tr>\n    <tr>\n      <th>7</th>\n      <td>(PLASTERS IN TIN CIRCUS PARADE)</td>\n      <td>(PLASTERS IN TIN WOODLAND ANIMALS)</td>\n      <td>0.12</td>\n      <td>0.14</td>\n      <td>0.07</td>\n      <td>0.58</td>\n      <td>4.24</td>\n      <td>0.05</td>\n      <td>2.08</td>\n    </tr>\n    <tr>\n      <th>6</th>\n      <td>(PLASTERS IN TIN WOODLAND ANIMALS)</td>\n      <td>(PLASTERS IN TIN CIRCUS PARADE)</td>\n      <td>0.14</td>\n      <td>0.12</td>\n      <td>0.07</td>\n      <td>0.49</td>\n      <td>4.24</td>\n      <td>0.05</td>\n      <td>1.74</td>\n    </tr>\n    <tr>\n      <th>11</th>\n      <td>(PLASTERS IN TIN SPACEBOY)</td>\n      <td>(PLASTERS IN TIN WOODLAND ANIMALS)</td>\n      <td>0.11</td>\n      <td>0.14</td>\n      <td>0.06</td>\n      <td>0.57</td>\n      <td>4.15</td>\n      <td>0.05</td>\n      <td>2.01</td>\n    </tr>\n    <tr>\n      <th>10</th>\n      <td>(PLASTERS IN TIN WOODLAND ANIMALS)</td>\n      <td>(PLASTERS IN TIN SPACEBOY)</td>\n      <td>0.14</td>\n      <td>0.11</td>\n      <td>0.06</td>\n      <td>0.44</td>\n      <td>4.15</td>\n      <td>0.05</td>\n      <td>1.61</td>\n    </tr>\n    <tr>\n      <th>0</th>\n      <td>(ROUND SNACK BOXES SET OF 4 FRUITS)</td>\n      <td>(ROUND SNACK BOXES SET OF4 WOODLAND)</td>\n      <td>0.16</td>\n      <td>0.25</td>\n      <td>0.13</td>\n      <td>0.83</td>\n      <td>3.40</td>\n      <td>0.09</td>\n      <td>4.53</td>\n    </tr>\n    <tr>\n      <th>1</th>\n      <td>(ROUND SNACK BOXES SET OF4 WOODLAND)</td>\n      <td>(ROUND SNACK BOXES SET OF 4 FRUITS)</td>\n      <td>0.25</td>\n      <td>0.16</td>\n      <td>0.13</td>\n      <td>0.54</td>\n      <td>3.40</td>\n      <td>0.09</td>\n      <td>1.81</td>\n    </tr>\n    <tr>\n      <th>4</th>\n      <td>(SPACEBOY LUNCH BOX)</td>\n      <td>(ROUND SNACK BOXES SET OF4 WOODLAND)</td>\n      <td>0.10</td>\n      <td>0.25</td>\n      <td>0.07</td>\n      <td>0.68</td>\n      <td>2.78</td>\n      <td>0.04</td>\n      <td>2.37</td>\n    </tr>\n    <tr>\n      <th>5</th>\n      <td>(ROUND SNACK BOXES SET OF4 WOODLAND)</td>\n      <td>(SPACEBOY LUNCH BOX)</td>\n      <td>0.25</td>\n      <td>0.10</td>\n      <td>0.07</td>\n      <td>0.29</td>\n      <td>2.78</td>\n      <td>0.04</td>\n      <td>1.26</td>\n    </tr>\n  </tbody>\n</table>\n</div>"
     },
     "metadata": {},
     "execution_count": 36
    }
   ],
   "source": [
    "regras_associacao_germany.sort_values(by='lift', axis=0, ascending=False, inplace=True)\n",
    "regras_associacao_germany.iloc[0:10]"
   ]
  },
  {
   "source": [
    "## Conclusão\n",
    "\n",
    "<br/>\n",
    "\n",
    "### Com estas informações já seria possível tentar realocar alguns produtos no supermercado, deixando-os mais próximos, por exemplo. Ou então colocando um produto em específico à mostra (porta de entrada do supermercado), pois costuma ser o mais comprado."
   ],
   "cell_type": "markdown",
   "metadata": {}
  }
 ]
}